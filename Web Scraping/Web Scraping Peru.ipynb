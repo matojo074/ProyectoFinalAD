{
 "cells": [
  {
   "cell_type": "code",
   "execution_count": 1,
   "id": "3f34038f",
   "metadata": {},
   "outputs": [],
   "source": [
    "from bs4 import BeautifulSoup\n",
    "import requests \n",
    "import pandas as pd\n",
    "import json\n",
    "\n",
    "url = 'https://datosmacro.expansion.com/otros/coronavirus-vacuna/peru'\n",
    "page = requests.get(url)\n",
    "soup = BeautifulSoup(page.content, \"html.parser\")\n",
    "\n",
    "\n",
    "def find_2nd(string, substring):\n",
    "    return string.find(substring, string.find(substring) + 1)\n",
    "def find_1st(string, substring):\n",
    "    return string.find(substring, string.find(substring))   "
   ]
  },
  {
   "cell_type": "code",
   "execution_count": 2,
   "id": "aba551ee",
   "metadata": {},
   "outputs": [
    {
     "name": "stdout",
     "output_type": "stream",
     "text": [
      "[{'Fecha': '10/09/2021', 'Dosis_Administradas': '20.662.297', 'Personas_Vacunadas': '11.553.723', 'Completamente_vacunadados': '8.679.284', 'Porcentaje_vacunados': '26,70%'}, {'Fecha': '09/09/2021', 'Dosis_Administradas': '20.511.790', 'Personas_Vacunadas': '11.553.723', 'Completamente_vacunadados': '8.679.284', 'Porcentaje_vacunados': '26,70%'}, {'Fecha': '08/09/2021', 'Dosis_Administradas': '20.194.581', 'Personas_Vacunadas': '10.866.694', 'Completamente_vacunadados': '8.495.758', 'Porcentaje_vacunados': '26,13%'}, {'Fecha': '07/09/2021', 'Dosis_Administradas': '19.886.413', 'Personas_Vacunadas': '10.866.694', 'Completamente_vacunadados': '8.495.758', 'Porcentaje_vacunados': '26,13%'}, {'Fecha': '06/09/2021', 'Dosis_Administradas': '19.780.104', 'Personas_Vacunadas': '10.866.694', 'Completamente_vacunadados': '8.495.758', 'Porcentaje_vacunados': '26,13%'}, {'Fecha': '05/09/2021', 'Dosis_Administradas': '19.572.728', 'Personas_Vacunadas': '10.866.694', 'Completamente_vacunadados': '8.495.758', 'Porcentaje_vacunados': '26,13%'}, {'Fecha': '04/09/2021', 'Dosis_Administradas': '19.407.288', 'Personas_Vacunadas': '10.742.139', 'Completamente_vacunadados': '8.451.487', 'Porcentaje_vacunados': '26,00%'}, {'Fecha': '03/09/2021', 'Dosis_Administradas': '19.160.649', 'Personas_Vacunadas': '10.511.980', 'Completamente_vacunadados': '8.303.953', 'Porcentaje_vacunados': '25,54%'}, {'Fecha': '02/09/2021', 'Dosis_Administradas': '18.971.313', 'Personas_Vacunadas': '10.541.607', 'Completamente_vacunadados': '8.277.602', 'Porcentaje_vacunados': '25,46%'}, {'Fecha': '01/09/2021', 'Dosis_Administradas': '18.779.399', 'Personas_Vacunadas': '10.362.816', 'Completamente_vacunadados': '8.159.638', 'Porcentaje_vacunados': '25,10%'}, {'Fecha': '31/08/2021', 'Dosis_Administradas': '18.665.069', 'Personas_Vacunadas': '10.046.728', 'Completamente_vacunadados': '7.800.482', 'Porcentaje_vacunados': '23,99%'}, {'Fecha': '30/08/2021', 'Dosis_Administradas': '18.471.601', 'Personas_Vacunadas': '10.046.728', 'Completamente_vacunadados': '7.800.482', 'Porcentaje_vacunados': '23,99%'}, {'Fecha': '29/08/2021', 'Dosis_Administradas': '18.421.770', 'Personas_Vacunadas': '10.046.728', 'Completamente_vacunadados': '7.800.482', 'Porcentaje_vacunados': '23,99%'}, {'Fecha': '28/08/2021', 'Dosis_Administradas': '18.151.872', 'Personas_Vacunadas': '9.991.279', 'Completamente_vacunadados': '7.712.339', 'Porcentaje_vacunados': '23,72%'}, {'Fecha': '27/08/2021', 'Dosis_Administradas': '17.817.989', 'Personas_Vacunadas': '9.869.336', 'Completamente_vacunadados': '7.629.036', 'Porcentaje_vacunados': '23,47%'}, {'Fecha': '26/08/2021', 'Dosis_Administradas': '17.682.355', 'Personas_Vacunadas': '9.869.336', 'Completamente_vacunadados': '7.629.036', 'Porcentaje_vacunados': '23,47%'}, {'Fecha': '25/08/2021', 'Dosis_Administradas': '17.576.711', 'Personas_Vacunadas': '9.869.336', 'Completamente_vacunadados': '7.629.036', 'Porcentaje_vacunados': '23,47%'}, {'Fecha': '24/08/2021', 'Dosis_Administradas': '17.477.056', 'Personas_Vacunadas': '9.818.769', 'Completamente_vacunadados': '7.575.624', 'Porcentaje_vacunados': '23,30%'}, {'Fecha': '23/08/2021', 'Dosis_Administradas': '17.363.831', 'Personas_Vacunadas': '9.740.759', 'Completamente_vacunadados': '7.497.432', 'Porcentaje_vacunados': '23,06%'}, {'Fecha': '22/08/2021', 'Dosis_Administradas': '17.235.247', 'Personas_Vacunadas': '9.614.673', 'Completamente_vacunadados': '7.420.239', 'Porcentaje_vacunados': '22,82%'}, {'Fecha': '21/08/2021', 'Dosis_Administradas': '16.937.206', 'Personas_Vacunadas': '9.397.634', 'Completamente_vacunadados': '7.242.876', 'Porcentaje_vacunados': '22,28%'}, {'Fecha': '20/08/2021', 'Dosis_Administradas': '16.742.825', 'Personas_Vacunadas': '9.355.138', 'Completamente_vacunadados': '7.163.217', 'Porcentaje_vacunados': '22,03%'}, {'Fecha': '19/08/2021', 'Dosis_Administradas': '16.617.151', 'Personas_Vacunadas': '9.355.138', 'Completamente_vacunadados': '7.163.217', 'Porcentaje_vacunados': '22,03%'}, {'Fecha': '18/08/2021', 'Dosis_Administradas': '16.491.674', 'Personas_Vacunadas': '9.307.189', 'Completamente_vacunadados': '7.086.136', 'Porcentaje_vacunados': '21,80%'}, {'Fecha': '17/08/2021', 'Dosis_Administradas': '16.363.486', 'Personas_Vacunadas': '9.260.765', 'Completamente_vacunadados': '7.001.900', 'Porcentaje_vacunados': '21,54%'}, {'Fecha': '16/08/2021', 'Dosis_Administradas': '16.225.119', 'Personas_Vacunadas': '9.215.626', 'Completamente_vacunadados': '6.920.113', 'Porcentaje_vacunados': '21,29%'}, {'Fecha': '15/08/2021', 'Dosis_Administradas': '16.031.067', 'Personas_Vacunadas': '9.154.357', 'Completamente_vacunadados': '6.636.428', 'Porcentaje_vacunados': '20,41%'}, {'Fecha': '14/08/2021', 'Dosis_Administradas': '15.939.794', 'Personas_Vacunadas': '9.154.357', 'Completamente_vacunadados': '6.636.428', 'Porcentaje_vacunados': '20,41%'}, {'Fecha': '13/08/2021', 'Dosis_Administradas': '15.760.516', 'Personas_Vacunadas': '9.107.568', 'Completamente_vacunadados': '6.551.507', 'Porcentaje_vacunados': '20,15%'}, {'Fecha': '12/08/2021', 'Dosis_Administradas': '15.625.510', 'Personas_Vacunadas': '9.050.949', 'Completamente_vacunadados': '6.459.585', 'Porcentaje_vacunados': '19,87%'}, {'Fecha': '11/08/2021', 'Dosis_Administradas': '15.470.279', 'Personas_Vacunadas': '8.879.464', 'Completamente_vacunadados': '6.290.463', 'Porcentaje_vacunados': '19,35%'}, {'Fecha': '10/08/2021', 'Dosis_Administradas': '15.304.649', 'Personas_Vacunadas': '8.879.464', 'Completamente_vacunadados': '6.290.463', 'Porcentaje_vacunados': '19,35%'}, {'Fecha': '09/08/2021', 'Dosis_Administradas': '15.123.558', 'Personas_Vacunadas': '8.750.005', 'Completamente_vacunadados': '6.154.935', 'Porcentaje_vacunados': '18,93%'}, {'Fecha': '08/08/2021', 'Dosis_Administradas': '14.898.969', 'Personas_Vacunadas': '8.575.459', 'Completamente_vacunadados': '6.047.148', 'Porcentaje_vacunados': '18,60%'}, {'Fecha': '07/08/2021', 'Dosis_Administradas': '14.603.480', 'Personas_Vacunadas': '8.254.969', 'Completamente_vacunadados': '5.776.402', 'Porcentaje_vacunados': '17,77%'}, {'Fecha': '06/08/2021', 'Dosis_Administradas': '14.256.155', 'Personas_Vacunadas': '8.254.969', 'Completamente_vacunadados': '5.776.402', 'Porcentaje_vacunados': '17,77%'}, {'Fecha': '05/08/2021', 'Dosis_Administradas': '13.997.234', 'Personas_Vacunadas': '8.156.701', 'Completamente_vacunadados': '5.546.832', 'Porcentaje_vacunados': '17,06%'}, {'Fecha': '04/08/2021', 'Dosis_Administradas': '13.833.067', 'Personas_Vacunadas': '5.778.443', 'Completamente_vacunadados': '4.142.057', 'Porcentaje_vacunados': '12,74%'}, {'Fecha': '03/08/2021', 'Dosis_Administradas': '13.486.230', 'Personas_Vacunadas': '8.086.008', 'Completamente_vacunadados': '5.400.222', 'Porcentaje_vacunados': '16,61%'}, {'Fecha': '02/08/2021', 'Dosis_Administradas': '13.152.285', 'Personas_Vacunadas': '7.997.150', 'Completamente_vacunadados': '5.155.135', 'Porcentaje_vacunados': '15,86%'}, {'Fecha': '01/08/2021', 'Dosis_Administradas': '13.152.285', 'Personas_Vacunadas': '7.997.150', 'Completamente_vacunadados': '5.155.135', 'Porcentaje_vacunados': '15,86%'}, {'Fecha': '31/07/2021', 'Dosis_Administradas': '12.939.471', 'Personas_Vacunadas': '7.952.895', 'Completamente_vacunadados': '4.986.576', 'Porcentaje_vacunados': '15,34%'}, {'Fecha': '30/07/2021', 'Dosis_Administradas': '12.521.783', 'Personas_Vacunadas': '7.819.321', 'Completamente_vacunadados': '4.702.462', 'Porcentaje_vacunados': '14,46%'}, {'Fecha': '29/07/2021', 'Dosis_Administradas': '12.521.783', 'Personas_Vacunadas': '7.819.321', 'Completamente_vacunadados': '4.702.462', 'Porcentaje_vacunados': '14,46%'}, {'Fecha': '28/07/2021', 'Dosis_Administradas': '12.521.783', 'Personas_Vacunadas': '7.819.321', 'Completamente_vacunadados': '4.702.462', 'Porcentaje_vacunados': '14,46%'}, {'Fecha': '27/07/2021', 'Dosis_Administradas': '12.480.520', 'Personas_Vacunadas': '7.627.284', 'Completamente_vacunadados': '4.492.612', 'Porcentaje_vacunados': '13,82%'}, {'Fecha': '26/07/2021', 'Dosis_Administradas': '12.246.415', 'Personas_Vacunadas': '7.627.284', 'Completamente_vacunadados': '4.492.612', 'Porcentaje_vacunados': '13,82%'}, {'Fecha': '25/07/2021', 'Dosis_Administradas': '12.116.379', 'Personas_Vacunadas': '6.874.670', 'Completamente_vacunadados': '4.040.849', 'Porcentaje_vacunados': '12,43%'}, {'Fecha': '24/07/2021', 'Dosis_Administradas': '11.869.246', 'Personas_Vacunadas': '6.874.670', 'Completamente_vacunadados': '4.040.849', 'Porcentaje_vacunados': '12,43%'}, {'Fecha': '23/07/2021', 'Dosis_Administradas': '11.526.418', 'Personas_Vacunadas': '6.874.670', 'Completamente_vacunadados': '4.040.849', 'Porcentaje_vacunados': '12,43%'}, {'Fecha': '22/07/2021', 'Dosis_Administradas': '11.326.135', 'Personas_Vacunadas': '6.874.670', 'Completamente_vacunadados': '4.040.849', 'Porcentaje_vacunados': '12,43%'}, {'Fecha': '21/07/2021', 'Dosis_Administradas': '11.157.907', 'Personas_Vacunadas': '6.874.670', 'Completamente_vacunadados': '4.040.849', 'Porcentaje_vacunados': '12,43%'}, {'Fecha': '20/07/2021', 'Dosis_Administradas': '10.955.545', 'Personas_Vacunadas': '6.874.670', 'Completamente_vacunadados': '4.040.849', 'Porcentaje_vacunados': '12,43%'}, {'Fecha': '19/07/2021', 'Dosis_Administradas': '10.890.737', 'Personas_Vacunadas': '6.793.217', 'Completamente_vacunadados': '3.988.214', 'Porcentaje_vacunados': '12,27%'}, {'Fecha': '18/07/2021', 'Dosis_Administradas': '10.777.269', 'Personas_Vacunadas': '6.313.952', 'Completamente_vacunadados': '3.782.220', 'Porcentaje_vacunados': '11,63%'}, {'Fecha': '17/07/2021', 'Dosis_Administradas': '10.500.317', 'Personas_Vacunadas': '6.313.952', 'Completamente_vacunadados': '3.782.220', 'Porcentaje_vacunados': '11,63%'}, {'Fecha': '16/07/2021', 'Dosis_Administradas': '10.267.634', 'Personas_Vacunadas': '6.313.952', 'Completamente_vacunadados': '3.782.220', 'Porcentaje_vacunados': '11,63%'}, {'Fecha': '15/07/2021', 'Dosis_Administradas': '10.064.280', 'Personas_Vacunadas': '6.208.058', 'Completamente_vacunadados': '3.746.371', 'Porcentaje_vacunados': '11,52%'}, {'Fecha': '14/07/2021', 'Dosis_Administradas': '9.871.539', 'Personas_Vacunadas': '5.928.634', 'Completamente_vacunadados': '3.669.939', 'Porcentaje_vacunados': '11,29%'}, {'Fecha': '13/07/2021', 'Dosis_Administradas': '9.721.454', 'Personas_Vacunadas': '5.780.969', 'Completamente_vacunadados': '3.631.955', 'Porcentaje_vacunados': '11,17%'}, {'Fecha': '12/07/2021', 'Dosis_Administradas': '9.565.621', 'Personas_Vacunadas': '5.363.808', 'Completamente_vacunadados': '3.567.113', 'Porcentaje_vacunados': '10,97%'}, {'Fecha': '11/07/2021', 'Dosis_Administradas': '9.407.317', 'Personas_Vacunadas': '5.363.808', 'Completamente_vacunadados': '3.567.113', 'Porcentaje_vacunados': '10,97%'}, {'Fecha': '10/07/2021', 'Dosis_Administradas': '9.204.838', 'Personas_Vacunadas': '5.363.808', 'Completamente_vacunadados': '3.567.113', 'Porcentaje_vacunados': '10,97%'}, {'Fecha': '09/07/2021', 'Dosis_Administradas': '8.897.304', 'Personas_Vacunadas': '5.063.967', 'Completamente_vacunadados': '3.456.190', 'Porcentaje_vacunados': '10,63%'}, {'Fecha': '08/07/2021', 'Dosis_Administradas': '8.683.103', 'Personas_Vacunadas': '5.063.967', 'Completamente_vacunadados': '3.456.190', 'Porcentaje_vacunados': '10,63%'}, {'Fecha': '07/07/2021', 'Dosis_Administradas': '8.496.434', 'Personas_Vacunadas': '4.928.417', 'Completamente_vacunadados': '3.413.322', 'Porcentaje_vacunados': '10,50%'}, {'Fecha': '06/07/2021', 'Dosis_Administradas': '8.317.502', 'Personas_Vacunadas': '4.691.667', 'Completamente_vacunadados': '3.310.737', 'Porcentaje_vacunados': '10,18%'}, {'Fecha': '05/07/2021', 'Dosis_Administradas': '8.131.007', 'Personas_Vacunadas': '4.691.667', 'Completamente_vacunadados': '3.310.737', 'Porcentaje_vacunados': '10,18%'}, {'Fecha': '04/07/2021', 'Dosis_Administradas': '7.984.161', 'Personas_Vacunadas': '4.626.087', 'Completamente_vacunadados': '3.274.903', 'Porcentaje_vacunados': '10,07%'}, {'Fecha': '03/07/2021', 'Dosis_Administradas': '7.874.831', 'Personas_Vacunadas': '4.457.599', 'Completamente_vacunadados': '3.137.183', 'Porcentaje_vacunados': '9,65%'}, {'Fecha': '02/07/2021', 'Dosis_Administradas': '7.733.457', 'Personas_Vacunadas': '4.386.208', 'Completamente_vacunadados': '3.054.889', 'Porcentaje_vacunados': '9,40%'}, {'Fecha': '01/07/2021', 'Dosis_Administradas': '7.569.763', 'Personas_Vacunadas': '4.386.208', 'Completamente_vacunadados': '3.054.889', 'Porcentaje_vacunados': '9,40%'}, {'Fecha': '30/06/2021', 'Dosis_Administradas': '7.419.292', 'Personas_Vacunadas': '4.296.611', 'Completamente_vacunadados': '2.936.834', 'Porcentaje_vacunados': '9,03%'}, {'Fecha': '29/06/2021', 'Dosis_Administradas': '7.297.497', 'Personas_Vacunadas': '4.296.611', 'Completamente_vacunadados': '2.936.834', 'Porcentaje_vacunados': '9,03%'}, {'Fecha': '28/06/2021', 'Dosis_Administradas': '7.220.895', 'Personas_Vacunadas': '4.243.361', 'Completamente_vacunadados': '2.913.726', 'Porcentaje_vacunados': '8,96%'}, {'Fecha': '27/06/2021', 'Dosis_Administradas': '7.142.227', 'Personas_Vacunadas': '4.193.911', 'Completamente_vacunadados': '2.902.646', 'Porcentaje_vacunados': '8,93%'}, {'Fecha': '26/06/2021', 'Dosis_Administradas': '7.081.292', 'Personas_Vacunadas': '4.042.847', 'Completamente_vacunadados': '2.832.366', 'Porcentaje_vacunados': '8,71%'}, {'Fecha': '25/06/2021', 'Dosis_Administradas': '6.983.514', 'Personas_Vacunadas': '3.989.978', 'Completamente_vacunadados': '2.773.728', 'Porcentaje_vacunados': '8,53%'}, {'Fecha': '24/06/2021', 'Dosis_Administradas': '6.853.848', 'Personas_Vacunadas': '3.989.978', 'Completamente_vacunadados': '2.773.728', 'Porcentaje_vacunados': '8,53%'}, {'Fecha': '23/06/2021', 'Dosis_Administradas': '6.732.727', 'Personas_Vacunadas': '3.937.353', 'Completamente_vacunadados': '2.669.582', 'Porcentaje_vacunados': '8,21%'}, {'Fecha': '22/06/2021', 'Dosis_Administradas': '6.567.720', 'Personas_Vacunadas': '3.873.064', 'Completamente_vacunadados': '2.547.799', 'Porcentaje_vacunados': '7,84%'}, {'Fecha': '21/06/2021', 'Dosis_Administradas': '6.406.162', 'Personas_Vacunadas': '3.818.223', 'Completamente_vacunadados': '2.477.276', 'Porcentaje_vacunados': '7,62%'}, {'Fecha': '20/06/2021', 'Dosis_Administradas': '6.286.005', 'Personas_Vacunadas': '3.777.819', 'Completamente_vacunadados': '2.359.228', 'Porcentaje_vacunados': '7,26%'}, {'Fecha': '19/06/2021', 'Dosis_Administradas': '6.239.431', 'Personas_Vacunadas': '3.777.819', 'Completamente_vacunadados': '2.359.228', 'Porcentaje_vacunados': '7,26%'}, {'Fecha': '18/06/2021', 'Dosis_Administradas': '6.111.520', 'Personas_Vacunadas': '3.728.741', 'Completamente_vacunadados': '2.225.712', 'Porcentaje_vacunados': '6,85%'}, {'Fecha': '17/06/2021', 'Dosis_Administradas': '5.915.906', 'Personas_Vacunadas': '3.673.662', 'Completamente_vacunadados': '2.117.241', 'Porcentaje_vacunados': '6,51%'}, {'Fecha': '16/06/2021', 'Dosis_Administradas': '5.774.374', 'Personas_Vacunadas': '3.567.962', 'Completamente_vacunadados': '1.962.675', 'Porcentaje_vacunados': '6,04%'}, {'Fecha': '15/06/2021', 'Dosis_Administradas': '5.645.364', 'Personas_Vacunadas': '3.567.962', 'Completamente_vacunadados': '1.962.675', 'Porcentaje_vacunados': '6,04%'}, {'Fecha': '14/06/2021', 'Dosis_Administradas': '5.501.973', 'Personas_Vacunadas': '3.506.004', 'Completamente_vacunadados': '1.882.384', 'Porcentaje_vacunados': '5,79%'}, {'Fecha': '13/06/2021', 'Dosis_Administradas': '5.371.672', 'Personas_Vacunadas': '3.465.963', 'Completamente_vacunadados': '1.838.827', 'Porcentaje_vacunados': '5,66%'}, {'Fecha': '12/06/2021', 'Dosis_Administradas': '5.282.488', 'Personas_Vacunadas': '3.393.413', 'Completamente_vacunadados': '1.760.482', 'Porcentaje_vacunados': '5,42%'}, {'Fecha': '11/06/2021', 'Dosis_Administradas': '5.128.278', 'Personas_Vacunadas': '3.300.230', 'Completamente_vacunadados': '1.645.991', 'Porcentaje_vacunados': '5,06%'}, {'Fecha': '10/06/2021', 'Dosis_Administradas': '4.905.795', 'Personas_Vacunadas': '3.112.369', 'Completamente_vacunadados': '1.459.235', 'Porcentaje_vacunados': '4,49%'}, {'Fecha': '09/06/2021', 'Dosis_Administradas': '4.710.131', 'Personas_Vacunadas': '3.112.369', 'Completamente_vacunadados': '1.459.235', 'Porcentaje_vacunados': '4,49%'}, {'Fecha': '08/06/2021', 'Dosis_Administradas': '4.552.828', 'Personas_Vacunadas': '3.035.410', 'Completamente_vacunadados': '1.365.709', 'Porcentaje_vacunados': '4,20%'}, {'Fecha': '07/06/2021', 'Dosis_Administradas': '4.395.070', 'Personas_Vacunadas': '3.011.628', 'Completamente_vacunadados': '1.337.844', 'Porcentaje_vacunados': '4,12%'}, {'Fecha': '06/06/2021', 'Dosis_Administradas': '4.342.724', 'Personas_Vacunadas': '2.984.941', 'Completamente_vacunadados': '1.313.919', 'Porcentaje_vacunados': '4,04%'}, {'Fecha': '05/06/2021', 'Dosis_Administradas': '4.332.176', 'Personas_Vacunadas': '2.984.941', 'Completamente_vacunadados': '1.313.919', 'Porcentaje_vacunados': '4,04%'}, {'Fecha': '04/06/2021', 'Dosis_Administradas': '4.289.311', 'Personas_Vacunadas': '2.953.430', 'Completamente_vacunadados': '1.290.153', 'Porcentaje_vacunados': '3,97%'}, {'Fecha': '03/06/2021', 'Dosis_Administradas': '4.207.543', 'Personas_Vacunadas': '2.890.732', 'Completamente_vacunadados': '1.255.012', 'Porcentaje_vacunados': '3,86%'}]\n"
     ]
    }
   ],
   "source": [
    "Datos2=[]\n",
    "Fecha2=[]\n",
    "\n",
    "i=0\n",
    "k=0\n",
    "\n",
    "\n",
    "Datos = soup.find_all(\"td\" , class_=\"numero\")\n",
    "Fecha = soup.find_all(\"td\" , class_=\"fecha\")\n",
    "\n",
    "\n",
    "\n",
    "\n",
    "extracted = []\n",
    "\n",
    "for element in Datos:\n",
    "    \n",
    "    element=str(element)\n",
    "    limpio=str(element[find_1st(element, '>')+1:find_2nd(element,'<')])\n",
    "    Datos2.append(limpio.strip())\n",
    "  \n",
    "\n",
    "    \n",
    "for element in Fecha:\n",
    "    \n",
    "    element=str(element)\n",
    "    limpio=str(element[find_1st(element, '>')+1:find_2nd(element,'<')])\n",
    "    Fecha2.append(limpio.strip())\n",
    "     \n",
    "   \n",
    "\n",
    "  \n",
    "for ele in range(100):\n",
    "    extracted.append({\n",
    "       'Fecha' : Fecha2[k],   \n",
    "       'Dosis_Administradas'  : Datos2[i],\n",
    "       'Personas_Vacunadas':Datos2[i+1],\n",
    "       'Completamente_vacunadados':Datos2[i+2],\n",
    "       'Porcentaje_vacunados':Datos2[i+3],\n",
    "       \n",
    "    })\n",
    "    i=i+4\n",
    "    k=k+1\n",
    "\n",
    "\n",
    "print (extracted)\n"
   ]
  },
  {
   "cell_type": "code",
   "execution_count": 3,
   "id": "f1ebaa77",
   "metadata": {},
   "outputs": [
    {
     "name": "stdout",
     "output_type": "stream",
     "text": [
      "Writing complete\n"
     ]
    }
   ],
   "source": [
    "import csv\n",
    "l = 0\n",
    "with open('V_Peru.csv', 'w') as csvfile:\n",
    "    fieldnames = ['Fecha','Dosis_Administradas','Personas_Vacunadas','Completamente_vacunadados','Porcentaje_vacunados']\n",
    "    writer = csv.DictWriter(csvfile, fieldnames=fieldnames)\n",
    " \n",
    "    writer.writeheader()\n",
    "    for element in extracted:\n",
    "        writer.writerow(extracted[l])\n",
    "        l = l +1\n",
    " \n",
    " \n",
    "print(\"Writing complete\")"
   ]
  },
  {
   "cell_type": "code",
   "execution_count": null,
   "id": "0a674fe1",
   "metadata": {},
   "outputs": [],
   "source": []
  },
  {
   "cell_type": "code",
   "execution_count": null,
   "id": "c404d52b",
   "metadata": {},
   "outputs": [],
   "source": []
  }
 ],
 "metadata": {
  "kernelspec": {
   "display_name": "Python 3 (ipykernel)",
   "language": "python",
   "name": "python3"
  },
  "language_info": {
   "codemirror_mode": {
    "name": "ipython",
    "version": 3
   },
   "file_extension": ".py",
   "mimetype": "text/x-python",
   "name": "python",
   "nbconvert_exporter": "python",
   "pygments_lexer": "ipython3",
   "version": "3.9.6"
  }
 },
 "nbformat": 4,
 "nbformat_minor": 5
}
