{
 "cells": [
  {
   "cell_type": "code",
   "execution_count": 1,
   "id": "3f34038f",
   "metadata": {},
   "outputs": [],
   "source": [
    "from bs4 import BeautifulSoup\n",
    "import requests \n",
    "import pandas as pd\n",
    "import json\n",
    "\n",
    "url = 'https://datosmacro.expansion.com/otros/coronavirus-vacuna/ecuador'\n",
    "page = requests.get(url)\n",
    "soup = BeautifulSoup(page.content, \"html.parser\")\n",
    "\n",
    "\n",
    "def find_2nd(string, substring):\n",
    "    return string.find(substring, string.find(substring) + 1)\n",
    "def find_1st(string, substring):\n",
    "    return string.find(substring, string.find(substring))   "
   ]
  },
  {
   "cell_type": "code",
   "execution_count": 2,
   "id": "aba551ee",
   "metadata": {},
   "outputs": [
    {
     "name": "stdout",
     "output_type": "stream",
     "text": [
      "[{'Fecha': '10/09/2021', 'Dosis_Administradas': '20.170.825', 'Personas_Vacunadas': '10.699.102', 'Completamente_vacunadados': '9.471.723', 'Porcentaje_vacunados': '54,85%'}, {'Fecha': '09/09/2021', 'Dosis_Administradas': '20.170.825', 'Personas_Vacunadas': '10.699.102', 'Completamente_vacunadados': '9.471.723', 'Porcentaje_vacunados': '54,85%'}, {'Fecha': '08/09/2021', 'Dosis_Administradas': '20.022.702', 'Personas_Vacunadas': '10.699.102', 'Completamente_vacunadados': '9.323.600', 'Porcentaje_vacunados': '53,99%'}, {'Fecha': '07/09/2021', 'Dosis_Administradas': '20.022.702', 'Personas_Vacunadas': '10.699.102', 'Completamente_vacunadados': '9.323.600', 'Porcentaje_vacunados': '53,99%'}, {'Fecha': '06/09/2021', 'Dosis_Administradas': '20.022.702', 'Personas_Vacunadas': '10.699.102', 'Completamente_vacunadados': '9.323.600', 'Porcentaje_vacunados': '53,99%'}, {'Fecha': '05/09/2021', 'Dosis_Administradas': '19.962.941', 'Personas_Vacunadas': '10.699.102', 'Completamente_vacunadados': '9.263.839', 'Porcentaje_vacunados': '53,65%'}, {'Fecha': '04/09/2021', 'Dosis_Administradas': '19.704.153', 'Personas_Vacunadas': '10.699.102', 'Completamente_vacunadados': '9.005.051', 'Porcentaje_vacunados': '52,15%'}, {'Fecha': '03/09/2021', 'Dosis_Administradas': '19.704.153', 'Personas_Vacunadas': '10.699.102', 'Completamente_vacunadados': '9.005.051', 'Porcentaje_vacunados': '52,15%'}, {'Fecha': '02/09/2021', 'Dosis_Administradas': '19.512.448', 'Personas_Vacunadas': '10.699.102', 'Completamente_vacunadados': '8.813.346', 'Porcentaje_vacunados': '51,04%'}, {'Fecha': '01/09/2021', 'Dosis_Administradas': '19.512.448', 'Personas_Vacunadas': '10.699.102', 'Completamente_vacunadados': '8.813.346', 'Porcentaje_vacunados': '51,04%'}, {'Fecha': '31/08/2021', 'Dosis_Administradas': '19.260.796', 'Personas_Vacunadas': '10.699.102', 'Completamente_vacunadados': '8.561.694', 'Porcentaje_vacunados': '49,58%'}, {'Fecha': '30/08/2021', 'Dosis_Administradas': '18.195.864', 'Personas_Vacunadas': '9.987.247', 'Completamente_vacunadados': '8.208.617', 'Porcentaje_vacunados': '47,54%'}, {'Fecha': '29/08/2021', 'Dosis_Administradas': '18.003.827', 'Personas_Vacunadas': '9.984.903', 'Completamente_vacunadados': '8.018.924', 'Porcentaje_vacunados': '46,44%'}, {'Fecha': '28/08/2021', 'Dosis_Administradas': '18.003.827', 'Personas_Vacunadas': '9.979.810', 'Completamente_vacunadados': '7.533.965', 'Porcentaje_vacunados': '43,63%'}, {'Fecha': '27/08/2021', 'Dosis_Administradas': '17.513.775', 'Personas_Vacunadas': '9.979.810', 'Completamente_vacunadados': '7.533.965', 'Porcentaje_vacunados': '43,63%'}, {'Fecha': '26/08/2021', 'Dosis_Administradas': '17.513.775', 'Personas_Vacunadas': '9.979.810', 'Completamente_vacunadados': '7.533.965', 'Porcentaje_vacunados': '43,63%'}, {'Fecha': '25/08/2021', 'Dosis_Administradas': '17.067.706', 'Personas_Vacunadas': '9.970.890', 'Completamente_vacunadados': '7.096.816', 'Porcentaje_vacunados': '41,10%'}, {'Fecha': '24/08/2021', 'Dosis_Administradas': '17.067.706', 'Personas_Vacunadas': '9.970.890', 'Completamente_vacunadados': '7.096.816', 'Porcentaje_vacunados': '41,10%'}, {'Fecha': '23/08/2021', 'Dosis_Administradas': '16.835.733', 'Personas_Vacunadas': '9.964.227', 'Completamente_vacunadados': '6.871.506', 'Porcentaje_vacunados': '39,79%'}, {'Fecha': '22/08/2021', 'Dosis_Administradas': '16.693.126', 'Personas_Vacunadas': '9.963.626', 'Completamente_vacunadados': '6.729.500', 'Porcentaje_vacunados': '38,97%'}, {'Fecha': '21/08/2021', 'Dosis_Administradas': '16.500.237', 'Personas_Vacunadas': '9.963.105', 'Completamente_vacunadados': '6.537.132', 'Porcentaje_vacunados': '37,86%'}, {'Fecha': '20/08/2021', 'Dosis_Administradas': '16.235.098', 'Personas_Vacunadas': '9.960.012', 'Completamente_vacunadados': '5.919.425', 'Porcentaje_vacunados': '34,28%'}, {'Fecha': '19/08/2021', 'Dosis_Administradas': '15.516.237', 'Personas_Vacunadas': '9.958.643', 'Completamente_vacunadados': '5.557.594', 'Porcentaje_vacunados': '32,18%'}, {'Fecha': '18/08/2021', 'Dosis_Administradas': '15.516.237', 'Personas_Vacunadas': '9.958.643', 'Completamente_vacunadados': '5.557.594', 'Porcentaje_vacunados': '32,18%'}, {'Fecha': '17/08/2021', 'Dosis_Administradas': '14.742.430', 'Personas_Vacunadas': '9.956.777', 'Completamente_vacunadados': '4.785.653', 'Porcentaje_vacunados': '27,71%'}, {'Fecha': '16/08/2021', 'Dosis_Administradas': '14.742.430', 'Personas_Vacunadas': '9.956.777', 'Completamente_vacunadados': '4.785.653', 'Porcentaje_vacunados': '27,71%'}, {'Fecha': '15/08/2021', 'Dosis_Administradas': '14.684.326', 'Personas_Vacunadas': '9.955.383', 'Completamente_vacunadados': '4.622.931', 'Porcentaje_vacunados': '26,77%'}, {'Fecha': '14/08/2021', 'Dosis_Administradas': '14.578.314', 'Personas_Vacunadas': '9.955.383', 'Completamente_vacunadados': '4.622.931', 'Porcentaje_vacunados': '26,77%'}, {'Fecha': '13/08/2021', 'Dosis_Administradas': '14.363.025', 'Personas_Vacunadas': '9.945.975', 'Completamente_vacunadados': '4.417.050', 'Porcentaje_vacunados': '25,58%'}, {'Fecha': '12/08/2021', 'Dosis_Administradas': '14.097.131', 'Personas_Vacunadas': '9.944.522', 'Completamente_vacunadados': '4.152.609', 'Porcentaje_vacunados': '24,05%'}, {'Fecha': '11/08/2021', 'Dosis_Administradas': '13.351.482', 'Personas_Vacunadas': '9.929.240', 'Completamente_vacunadados': '3.422.242', 'Porcentaje_vacunados': '19,82%'}, {'Fecha': '10/08/2021', 'Dosis_Administradas': '13.351.482', 'Personas_Vacunadas': '9.929.240', 'Completamente_vacunadados': '3.422.242', 'Porcentaje_vacunados': '19,82%'}, {'Fecha': '09/08/2021', 'Dosis_Administradas': '13.351.482', 'Personas_Vacunadas': '9.929.240', 'Completamente_vacunadados': '3.422.242', 'Porcentaje_vacunados': '19,82%'}, {'Fecha': '08/08/2021', 'Dosis_Administradas': '12.883.619', 'Personas_Vacunadas': '9.637.618', 'Completamente_vacunadados': '3.246.001', 'Porcentaje_vacunados': '18,80%'}, {'Fecha': '07/08/2021', 'Dosis_Administradas': '12.649.538', 'Personas_Vacunadas': '9.585.665', 'Completamente_vacunadados': '3.063.873', 'Porcentaje_vacunados': '17,74%'}, {'Fecha': '06/08/2021', 'Dosis_Administradas': '12.384.109', 'Personas_Vacunadas': '9.524.743', 'Completamente_vacunadados': '2.859.366', 'Porcentaje_vacunados': '16,56%'}, {'Fecha': '05/08/2021', 'Dosis_Administradas': '12.138.621', 'Personas_Vacunadas': '9.446.897', 'Completamente_vacunadados': '2.691.724', 'Porcentaje_vacunados': '15,59%'}, {'Fecha': '04/08/2021', 'Dosis_Administradas': '11.917.800', 'Personas_Vacunadas': '9.358.610', 'Completamente_vacunadados': '2.559.190', 'Porcentaje_vacunados': '14,82%'}, {'Fecha': '03/08/2021', 'Dosis_Administradas': '11.732.461', 'Personas_Vacunadas': '9.269.733', 'Completamente_vacunadados': '2.462.728', 'Porcentaje_vacunados': '14,26%'}, {'Fecha': '02/08/2021', 'Dosis_Administradas': '11.419.806', 'Personas_Vacunadas': '9.047.885', 'Completamente_vacunadados': '2.371.921', 'Porcentaje_vacunados': '13,74%'}, {'Fecha': '01/08/2021', 'Dosis_Administradas': '11.419.806', 'Personas_Vacunadas': '9.047.885', 'Completamente_vacunadados': '2.371.921', 'Porcentaje_vacunados': '13,74%'}, {'Fecha': '31/07/2021', 'Dosis_Administradas': '11.221.939', 'Personas_Vacunadas': '8.884.880', 'Completamente_vacunadados': '2.337.059', 'Porcentaje_vacunados': '13,53%'}, {'Fecha': '30/07/2021', 'Dosis_Administradas': '10.929.785', 'Personas_Vacunadas': '8.368.783', 'Completamente_vacunadados': '2.215.238', 'Porcentaje_vacunados': '12,83%'}, {'Fecha': '29/07/2021', 'Dosis_Administradas': '10.584.021', 'Personas_Vacunadas': '8.368.783', 'Completamente_vacunadados': '2.215.238', 'Porcentaje_vacunados': '12,83%'}, {'Fecha': '28/07/2021', 'Dosis_Administradas': '10.051.176', 'Personas_Vacunadas': '7.960.999', 'Completamente_vacunadados': '2.090.177', 'Porcentaje_vacunados': '12,10%'}, {'Fecha': '27/07/2021', 'Dosis_Administradas': '9.880.401', 'Personas_Vacunadas': '7.648.949', 'Completamente_vacunadados': '2.028.931', 'Porcentaje_vacunados': '11,75%'}, {'Fecha': '26/07/2021', 'Dosis_Administradas': '9.677.880', 'Personas_Vacunadas': '7.648.949', 'Completamente_vacunadados': '2.028.931', 'Porcentaje_vacunados': '11,75%'}, {'Fecha': '25/07/2021', 'Dosis_Administradas': '9.510.668', 'Personas_Vacunadas': '7.494.082', 'Completamente_vacunadados': '2.016.586', 'Porcentaje_vacunados': '11,68%'}, {'Fecha': '24/07/2021', 'Dosis_Administradas': '9.510.668', 'Personas_Vacunadas': '7.302.932', 'Completamente_vacunadados': '1.992.419', 'Porcentaje_vacunados': '11,54%'}, {'Fecha': '23/07/2021', 'Dosis_Administradas': '9.295.351', 'Personas_Vacunadas': '7.302.932', 'Completamente_vacunadados': '1.992.419', 'Porcentaje_vacunados': '11,54%'}, {'Fecha': '22/07/2021', 'Dosis_Administradas': '9.055.887', 'Personas_Vacunadas': '7.087.388', 'Completamente_vacunadados': '1.968.499', 'Porcentaje_vacunados': '11,40%'}, {'Fecha': '21/07/2021', 'Dosis_Administradas': '8.707.304', 'Personas_Vacunadas': '6.778.045', 'Completamente_vacunadados': '1.929.259', 'Porcentaje_vacunados': '11,17%'}, {'Fecha': '20/07/2021', 'Dosis_Administradas': '8.467.877', 'Personas_Vacunadas': '6.551.874', 'Completamente_vacunadados': '1.916.003', 'Porcentaje_vacunados': '11,10%'}, {'Fecha': '19/07/2021', 'Dosis_Administradas': '8.178.327', 'Personas_Vacunadas': '6.281.841', 'Completamente_vacunadados': '1.896.486', 'Porcentaje_vacunados': '10,98%'}, {'Fecha': '18/07/2021', 'Dosis_Administradas': '7.882.979', 'Personas_Vacunadas': '6.001.154', 'Completamente_vacunadados': '1.881.825', 'Porcentaje_vacunados': '10,90%'}, {'Fecha': '17/07/2021', 'Dosis_Administradas': '7.591.739', 'Personas_Vacunadas': '5.730.317', 'Completamente_vacunadados': '1.861.422', 'Porcentaje_vacunados': '10,78%'}, {'Fecha': '16/07/2021', 'Dosis_Administradas': '7.281.701', 'Personas_Vacunadas': '5.447.856', 'Completamente_vacunadados': '1.833.845', 'Porcentaje_vacunados': '10,62%'}, {'Fecha': '15/07/2021', 'Dosis_Administradas': '6.890.876', 'Personas_Vacunadas': '5.079.607', 'Completamente_vacunadados': '1.811.269', 'Porcentaje_vacunados': '10,49%'}, {'Fecha': '14/07/2021', 'Dosis_Administradas': '5.786.147', 'Personas_Vacunadas': '4.088.423', 'Completamente_vacunadados': '1.697.724', 'Porcentaje_vacunados': '9,83%'}, {'Fecha': '13/07/2021', 'Dosis_Administradas': '5.786.147', 'Personas_Vacunadas': '4.088.423', 'Completamente_vacunadados': '1.697.724', 'Porcentaje_vacunados': '9,83%'}, {'Fecha': '12/07/2021', 'Dosis_Administradas': '5.786.147', 'Personas_Vacunadas': '3.933.031', 'Completamente_vacunadados': '1.686.084', 'Porcentaje_vacunados': '9,76%'}, {'Fecha': '11/07/2021', 'Dosis_Administradas': '5.619.115', 'Personas_Vacunadas': '3.933.031', 'Completamente_vacunadados': '1.686.084', 'Porcentaje_vacunados': '9,76%'}, {'Fecha': '10/07/2021', 'Dosis_Administradas': '5.358.688', 'Personas_Vacunadas': '3.714.533', 'Completamente_vacunadados': '1.644.155', 'Porcentaje_vacunados': '9,52%'}, {'Fecha': '09/07/2021', 'Dosis_Administradas': '5.142.998', 'Personas_Vacunadas': '3.360.276', 'Completamente_vacunadados': '1.598.116', 'Porcentaje_vacunados': '9,25%'}, {'Fecha': '08/07/2021', 'Dosis_Administradas': '4.958.392', 'Personas_Vacunadas': '3.360.276', 'Completamente_vacunadados': '1.598.116', 'Porcentaje_vacunados': '9,25%'}, {'Fecha': '07/07/2021', 'Dosis_Administradas': '4.794.852', 'Personas_Vacunadas': '3.225.402', 'Completamente_vacunadados': '1.569.450', 'Porcentaje_vacunados': '9,09%'}, {'Fecha': '06/07/2021', 'Dosis_Administradas': '4.647.258', 'Personas_Vacunadas': '2.968.679', 'Completamente_vacunadados': '1.483.111', 'Porcentaje_vacunados': '8,59%'}, {'Fecha': '05/07/2021', 'Dosis_Administradas': '4.451.790', 'Personas_Vacunadas': '2.968.679', 'Completamente_vacunadados': '1.483.111', 'Porcentaje_vacunados': '8,59%'}, {'Fecha': '04/07/2021', 'Dosis_Administradas': '4.451.790', 'Personas_Vacunadas': '2.968.679', 'Completamente_vacunadados': '1.483.111', 'Porcentaje_vacunados': '8,59%'}, {'Fecha': '03/07/2021', 'Dosis_Administradas': '4.345.970', 'Personas_Vacunadas': '2.885.050', 'Completamente_vacunadados': '1.416.916', 'Porcentaje_vacunados': '8,21%'}, {'Fecha': '02/07/2021', 'Dosis_Administradas': '4.301.966', 'Personas_Vacunadas': '2.793.332', 'Completamente_vacunadados': '1.359.225', 'Porcentaje_vacunados': '7,87%'}, {'Fecha': '01/07/2021', 'Dosis_Administradas': '4.152.557', 'Personas_Vacunadas': '2.793.332', 'Completamente_vacunadados': '1.359.225', 'Porcentaje_vacunados': '7,87%'}, {'Fecha': '30/06/2021', 'Dosis_Administradas': '4.152.557', 'Personas_Vacunadas': '2.793.332', 'Completamente_vacunadados': '1.359.225', 'Porcentaje_vacunados': '7,87%'}, {'Fecha': '29/06/2021', 'Dosis_Administradas': '4.091.026', 'Personas_Vacunadas': '2.747.894', 'Completamente_vacunadados': '1.343.132', 'Porcentaje_vacunados': '7,78%'}, {'Fecha': '28/06/2021', 'Dosis_Administradas': '4.024.007', 'Personas_Vacunadas': '2.701.284', 'Completamente_vacunadados': '1.322.723', 'Porcentaje_vacunados': '7,66%'}, {'Fecha': '27/06/2021', 'Dosis_Administradas': '3.991.635', 'Personas_Vacunadas': '2.680.072', 'Completamente_vacunadados': '1.311.563', 'Porcentaje_vacunados': '7,60%'}, {'Fecha': '26/06/2021', 'Dosis_Administradas': '3.944.256', 'Personas_Vacunadas': '2.537.302', 'Completamente_vacunadados': '1.260.361', 'Porcentaje_vacunados': '7,30%'}, {'Fecha': '25/06/2021', 'Dosis_Administradas': '3.797.663', 'Personas_Vacunadas': '2.537.302', 'Completamente_vacunadados': '1.260.361', 'Porcentaje_vacunados': '7,30%'}, {'Fecha': '24/06/2021', 'Dosis_Administradas': '3.797.663', 'Personas_Vacunadas': '2.537.302', 'Completamente_vacunadados': '1.260.361', 'Porcentaje_vacunados': '7,30%'}, {'Fecha': '23/06/2021', 'Dosis_Administradas': '3.725.385', 'Personas_Vacunadas': '2.480.014', 'Completamente_vacunadados': '1.245.371', 'Porcentaje_vacunados': '7,21%'}, {'Fecha': '22/06/2021', 'Dosis_Administradas': '3.658.226', 'Personas_Vacunadas': '2.426.450', 'Completamente_vacunadados': '1.231.776', 'Porcentaje_vacunados': '7,13%'}, {'Fecha': '21/06/2021', 'Dosis_Administradas': '3.580.667', 'Personas_Vacunadas': '2.368.971', 'Completamente_vacunadados': '1.211.696', 'Porcentaje_vacunados': '7,02%'}, {'Fecha': '20/06/2021', 'Dosis_Administradas': '3.558.254', 'Personas_Vacunadas': '2.079.889', 'Completamente_vacunadados': '1.053.498', 'Porcentaje_vacunados': '6,10%'}, {'Fecha': '19/06/2021', 'Dosis_Administradas': '3.133.387', 'Personas_Vacunadas': '2.079.889', 'Completamente_vacunadados': '1.053.498', 'Porcentaje_vacunados': '6,10%'}, {'Fecha': '18/06/2021', 'Dosis_Administradas': '3.133.387', 'Personas_Vacunadas': '2.079.889', 'Completamente_vacunadados': '1.053.498', 'Porcentaje_vacunados': '6,10%'}, {'Fecha': '17/06/2021', 'Dosis_Administradas': '3.133.387', 'Personas_Vacunadas': '2.079.889', 'Completamente_vacunadados': '1.053.498', 'Porcentaje_vacunados': '6,10%'}, {'Fecha': '16/06/2021', 'Dosis_Administradas': '3.133.387', 'Personas_Vacunadas': '2.043.159', 'Completamente_vacunadados': '1.038.013', 'Porcentaje_vacunados': '6,01%'}, {'Fecha': '15/06/2021', 'Dosis_Administradas': '3.081.172', 'Personas_Vacunadas': '2.043.159', 'Completamente_vacunadados': '1.038.013', 'Porcentaje_vacunados': '6,01%'}, {'Fecha': '14/06/2021', 'Dosis_Administradas': '2.788.245', 'Personas_Vacunadas': '1.877.548', 'Completamente_vacunadados': '910.697', 'Porcentaje_vacunados': '5,27%'}, {'Fecha': '13/06/2021', 'Dosis_Administradas': '2.788.245', 'Personas_Vacunadas': '1.877.548', 'Completamente_vacunadados': '910.697', 'Porcentaje_vacunados': '5,27%'}, {'Fecha': '12/06/2021', 'Dosis_Administradas': '2.788.245', 'Personas_Vacunadas': '1.877.548', 'Completamente_vacunadados': '910.697', 'Porcentaje_vacunados': '5,27%'}, {'Fecha': '11/06/2021', 'Dosis_Administradas': '2.788.245', 'Personas_Vacunadas': '1.877.548', 'Completamente_vacunadados': '910.697', 'Porcentaje_vacunados': '5,27%'}, {'Fecha': '10/06/2021', 'Dosis_Administradas': '2.717.072', 'Personas_Vacunadas': '1.825.096', 'Completamente_vacunadados': '891.976', 'Porcentaje_vacunados': '5,17%'}, {'Fecha': '09/06/2021', 'Dosis_Administradas': '2.717.072', 'Personas_Vacunadas': '1.825.096', 'Completamente_vacunadados': '891.976', 'Porcentaje_vacunados': '5,17%'}, {'Fecha': '08/06/2021', 'Dosis_Administradas': '2.717.072', 'Personas_Vacunadas': '1.825.096', 'Completamente_vacunadados': '891.976', 'Porcentaje_vacunados': '5,17%'}, {'Fecha': '07/06/2021', 'Dosis_Administradas': '2.645.983', 'Personas_Vacunadas': '1.774.025', 'Completamente_vacunadados': '871.958', 'Porcentaje_vacunados': '5,05%'}, {'Fecha': '06/06/2021', 'Dosis_Administradas': '2.597.836', 'Personas_Vacunadas': '1.744.825', 'Completamente_vacunadados': '853.011', 'Porcentaje_vacunados': '4,94%'}, {'Fecha': '05/06/2021', 'Dosis_Administradas': '2.529.218', 'Personas_Vacunadas': '1.702.124', 'Completamente_vacunadados': '827.094', 'Porcentaje_vacunados': '4,79%'}, {'Fecha': '04/06/2021', 'Dosis_Administradas': '2.529.218', 'Personas_Vacunadas': '1.702.124', 'Completamente_vacunadados': '827.094', 'Porcentaje_vacunados': '4,79%'}, {'Fecha': '03/06/2021', 'Dosis_Administradas': '2.447.889', 'Personas_Vacunadas': '1.657.029', 'Completamente_vacunadados': '790.860', 'Porcentaje_vacunados': '4,58%'}]\n"
     ]
    }
   ],
   "source": [
    "Datos2=[]\n",
    "Fecha2=[]\n",
    "\n",
    "i=0\n",
    "k=0\n",
    "\n",
    "Datos = soup.find_all(\"td\" , class_=\"numero\")\n",
    "Fecha = soup.find_all(\"td\" , class_=\"fecha\")\n",
    "\n",
    "extracted = []\n",
    "\n",
    "for element in Datos:\n",
    "    \n",
    "    element=str(element)\n",
    "    limpio=str(element[find_1st(element, '>')+1:find_2nd(element,'<')])\n",
    "    Datos2.append(limpio.strip())\n",
    "  \n",
    "   \n",
    "for element in Fecha:\n",
    "    \n",
    "    element=str(element)\n",
    "    limpio=str(element[find_1st(element, '>')+1:find_2nd(element,'<')])\n",
    "    Fecha2.append(limpio.strip())\n",
    "     \n",
    "        \n",
    "for ele in range(100):\n",
    "    extracted.append({\n",
    "       'Fecha' : Fecha2[k],   \n",
    "       'Dosis_Administradas'  : Datos2[i],\n",
    "       'Personas_Vacunadas':Datos2[i+1],\n",
    "       'Completamente_vacunadados':Datos2[i+2],\n",
    "       'Porcentaje_vacunados':Datos2[i+3],\n",
    "       \n",
    "    })\n",
    "    i=i+4\n",
    "    k=k+1\n",
    "\n",
    "\n",
    "print (extracted)\n"
   ]
  },
  {
   "cell_type": "code",
   "execution_count": 3,
   "id": "f1ebaa77",
   "metadata": {},
   "outputs": [
    {
     "name": "stdout",
     "output_type": "stream",
     "text": [
      "Writing complete\n"
     ]
    }
   ],
   "source": [
    "import csv\n",
    "l = 0\n",
    "with open('V_Ecuador.csv', 'w') as csvfile:\n",
    "    fieldnames = ['Fecha','Dosis_Administradas','Personas_Vacunadas','Completamente_vacunadados','Porcentaje_vacunados']\n",
    "    writer = csv.DictWriter(csvfile, fieldnames=fieldnames)\n",
    " \n",
    "    writer.writeheader()\n",
    "    for element in extracted:\n",
    "        writer.writerow(extracted[l])\n",
    "        l = l +1\n",
    " \n",
    " \n",
    "print(\"Writing complete\")"
   ]
  },
  {
   "cell_type": "code",
   "execution_count": null,
   "id": "0a674fe1",
   "metadata": {},
   "outputs": [],
   "source": []
  },
  {
   "cell_type": "code",
   "execution_count": null,
   "id": "c404d52b",
   "metadata": {},
   "outputs": [],
   "source": []
  }
 ],
 "metadata": {
  "kernelspec": {
   "display_name": "Python 3 (ipykernel)",
   "language": "python",
   "name": "python3"
  },
  "language_info": {
   "codemirror_mode": {
    "name": "ipython",
    "version": 3
   },
   "file_extension": ".py",
   "mimetype": "text/x-python",
   "name": "python",
   "nbconvert_exporter": "python",
   "pygments_lexer": "ipython3",
   "version": "3.9.6"
  }
 },
 "nbformat": 4,
 "nbformat_minor": 5
}
