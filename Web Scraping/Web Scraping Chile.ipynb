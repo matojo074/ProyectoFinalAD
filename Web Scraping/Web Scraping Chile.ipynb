{
 "cells": [
  {
   "cell_type": "code",
   "execution_count": 1,
   "id": "3f34038f",
   "metadata": {},
   "outputs": [],
   "source": [
    "from bs4 import BeautifulSoup\n",
    "import requests \n",
    "import pandas as pd\n",
    "import json\n",
    "\n",
    "url = 'https://datosmacro.expansion.com/otros/coronavirus-vacuna/chile'\n",
    "page = requests.get(url)\n",
    "soup = BeautifulSoup(page.content, \"html.parser\")\n",
    "\n",
    "\n",
    "def find_2nd(string, substring):\n",
    "    return string.find(substring, string.find(substring) + 1)\n",
    "def find_1st(string, substring):\n",
    "    return string.find(substring, string.find(substring))   "
   ]
  },
  {
   "cell_type": "code",
   "execution_count": 2,
   "id": "aba551ee",
   "metadata": {},
   "outputs": [
    {
     "name": "stdout",
     "output_type": "stream",
     "text": [
      "[{'Fecha': '10/09/2021', 'Dosis_Administradas': '29.923.619', 'Personas_Vacunadas': '14.469.748', 'Completamente_vacunadados': '13.880.082', 'Porcentaje_vacunados': '72,64%'}, {'Fecha': '09/09/2021', 'Dosis_Administradas': '29.923.619', 'Personas_Vacunadas': '14.469.748', 'Completamente_vacunadados': '13.880.082', 'Porcentaje_vacunados': '72,64%'}, {'Fecha': '08/09/2021', 'Dosis_Administradas': '29.589.680', 'Personas_Vacunadas': '14.449.896', 'Completamente_vacunadados': '13.799.306', 'Porcentaje_vacunados': '72,22%'}, {'Fecha': '07/09/2021', 'Dosis_Administradas': '29.589.680', 'Personas_Vacunadas': '14.449.896', 'Completamente_vacunadados': '13.799.306', 'Porcentaje_vacunados': '72,22%'}, {'Fecha': '06/09/2021', 'Dosis_Administradas': '29.439.957', 'Personas_Vacunadas': '14.433.504', 'Completamente_vacunadados': '13.739.673', 'Porcentaje_vacunados': '71,91%'}, {'Fecha': '05/09/2021', 'Dosis_Administradas': '29.439.524', 'Personas_Vacunadas': '14.433.335', 'Completamente_vacunadados': '13.739.469', 'Porcentaje_vacunados': '71,91%'}, {'Fecha': '04/09/2021', 'Dosis_Administradas': '29.435.464', 'Personas_Vacunadas': '14.432.607', 'Completamente_vacunadados': '13.738.246', 'Porcentaje_vacunados': '71,90%'}, {'Fecha': '03/09/2021', 'Dosis_Administradas': '29.331.816', 'Personas_Vacunadas': '14.430.291', 'Completamente_vacunadados': '13.719.728', 'Porcentaje_vacunados': '71,80%'}, {'Fecha': '02/09/2021', 'Dosis_Administradas': '29.191.019', 'Personas_Vacunadas': '14.427.750', 'Completamente_vacunadados': '13.694.664', 'Porcentaje_vacunados': '71,67%'}, {'Fecha': '01/09/2021', 'Dosis_Administradas': '29.030.816', 'Personas_Vacunadas': '14.424.212', 'Completamente_vacunadados': '13.657.691', 'Porcentaje_vacunados': '71,48%'}, {'Fecha': '31/08/2021', 'Dosis_Administradas': '28.827.928', 'Personas_Vacunadas': '14.402.154', 'Completamente_vacunadados': '13.563.323', 'Porcentaje_vacunados': '70,99%'}, {'Fecha': '30/08/2021', 'Dosis_Administradas': '28.637.824', 'Personas_Vacunadas': '14.381.007', 'Completamente_vacunadados': '13.484.231', 'Porcentaje_vacunados': '70,57%'}, {'Fecha': '29/08/2021', 'Dosis_Administradas': '28.636.748', 'Personas_Vacunadas': '14.380.538', 'Completamente_vacunadados': '13.483.628', 'Porcentaje_vacunados': '70,57%'}, {'Fecha': '28/08/2021', 'Dosis_Administradas': '28.495.812', 'Personas_Vacunadas': '14.376.091', 'Completamente_vacunadados': '13.426.037', 'Porcentaje_vacunados': '70,27%'}, {'Fecha': '27/08/2021', 'Dosis_Administradas': '28.312.036', 'Personas_Vacunadas': '14.372.483', 'Completamente_vacunadados': '13.345.985', 'Porcentaje_vacunados': '69,85%'}, {'Fecha': '26/08/2021', 'Dosis_Administradas': '28.312.036', 'Personas_Vacunadas': '14.372.483', 'Completamente_vacunadados': '13.345.985', 'Porcentaje_vacunados': '69,85%'}, {'Fecha': '25/08/2021', 'Dosis_Administradas': '28.198.004', 'Personas_Vacunadas': '14.354.049', 'Completamente_vacunadados': '13.328.516', 'Porcentaje_vacunados': '69,76%'}, {'Fecha': '24/08/2021', 'Dosis_Administradas': '28.078.122', 'Personas_Vacunadas': '14.327.069', 'Completamente_vacunadados': '13.305.156', 'Porcentaje_vacunados': '69,63%'}, {'Fecha': '23/08/2021', 'Dosis_Administradas': '27.960.450', 'Personas_Vacunadas': '14.298.007', 'Completamente_vacunadados': '13.275.644', 'Porcentaje_vacunados': '69,48%'}, {'Fecha': '22/08/2021', 'Dosis_Administradas': '27.959.033', 'Personas_Vacunadas': '14.297.329', 'Completamente_vacunadados': '13.274.767', 'Porcentaje_vacunados': '69,48%'}, {'Fecha': '21/08/2021', 'Dosis_Administradas': '27.949.717', 'Personas_Vacunadas': '14.295.630', 'Completamente_vacunadados': '13.270.723', 'Porcentaje_vacunados': '69,45%'}, {'Fecha': '20/08/2021', 'Dosis_Administradas': '27.796.753', 'Personas_Vacunadas': '14.292.143', 'Completamente_vacunadados': '13.213.268', 'Porcentaje_vacunados': '69,15%'}, {'Fecha': '19/08/2021', 'Dosis_Administradas': '27.626.715', 'Personas_Vacunadas': '14.288.449', 'Completamente_vacunadados': '13.151.703', 'Porcentaje_vacunados': '68,83%'}, {'Fecha': '18/08/2021', 'Dosis_Administradas': '26.785.123', 'Personas_Vacunadas': '14.246.757', 'Completamente_vacunadados': '13.048.158', 'Porcentaje_vacunados': '68,29%'}, {'Fecha': '17/08/2021', 'Dosis_Administradas': '26.727.606', 'Personas_Vacunadas': '14.210.112', 'Completamente_vacunadados': '13.027.147', 'Porcentaje_vacunados': '68,18%'}, {'Fecha': '16/08/2021', 'Dosis_Administradas': '26.727.106', 'Personas_Vacunadas': '14.209.874', 'Completamente_vacunadados': '13.026.883', 'Porcentaje_vacunados': '68,18%'}, {'Fecha': '15/08/2021', 'Dosis_Administradas': '26.671.675', 'Personas_Vacunadas': '14.207.093', 'Completamente_vacunadados': '12.974.102', 'Porcentaje_vacunados': '67,90%'}, {'Fecha': '14/08/2021', 'Dosis_Administradas': '26.671.675', 'Personas_Vacunadas': '14.207.093', 'Completamente_vacunadados': '12.974.102', 'Porcentaje_vacunados': '67,90%'}, {'Fecha': '13/08/2021', 'Dosis_Administradas': '26.587.659', 'Personas_Vacunadas': '14.204.177', 'Completamente_vacunadados': '12.892.881', 'Porcentaje_vacunados': '67,48%'}, {'Fecha': '12/08/2021', 'Dosis_Administradas': '26.587.659', 'Personas_Vacunadas': '14.204.177', 'Completamente_vacunadados': '12.892.881', 'Porcentaje_vacunados': '67,48%'}, {'Fecha': '11/08/2021', 'Dosis_Administradas': '26.285.490', 'Personas_Vacunadas': '14.056.388', 'Completamente_vacunadados': '12.737.914', 'Porcentaje_vacunados': '66,67%'}, {'Fecha': '10/08/2021', 'Dosis_Administradas': '26.285.490', 'Personas_Vacunadas': '14.056.388', 'Completamente_vacunadados': '12.737.914', 'Porcentaje_vacunados': '66,67%'}, {'Fecha': '09/08/2021', 'Dosis_Administradas': '25.688.833', 'Personas_Vacunadas': '13.857.925', 'Completamente_vacunadados': '12.337.649', 'Porcentaje_vacunados': '64,57%'}, {'Fecha': '08/08/2021', 'Dosis_Administradas': '25.688.833', 'Personas_Vacunadas': '13.857.925', 'Completamente_vacunadados': '12.337.649', 'Porcentaje_vacunados': '64,57%'}, {'Fecha': '07/08/2021', 'Dosis_Administradas': '25.688.833', 'Personas_Vacunadas': '13.857.925', 'Completamente_vacunadados': '12.337.649', 'Porcentaje_vacunados': '64,57%'}, {'Fecha': '06/08/2021', 'Dosis_Administradas': '25.688.833', 'Personas_Vacunadas': '13.857.925', 'Completamente_vacunadados': '12.337.649', 'Porcentaje_vacunados': '64,57%'}, {'Fecha': '05/08/2021', 'Dosis_Administradas': '25.688.833', 'Personas_Vacunadas': '13.857.925', 'Completamente_vacunadados': '12.337.649', 'Porcentaje_vacunados': '64,57%'}, {'Fecha': '04/08/2021', 'Dosis_Administradas': '25.688.833', 'Personas_Vacunadas': '13.857.925', 'Completamente_vacunadados': '12.337.649', 'Porcentaje_vacunados': '64,57%'}, {'Fecha': '03/08/2021', 'Dosis_Administradas': '25.649.538', 'Personas_Vacunadas': '13.829.217', 'Completamente_vacunadados': '12.326.594', 'Porcentaje_vacunados': '64,51%'}, {'Fecha': '02/08/2021', 'Dosis_Administradas': '25.649.538', 'Personas_Vacunadas': '13.829.217', 'Completamente_vacunadados': '12.326.594', 'Porcentaje_vacunados': '64,51%'}, {'Fecha': '01/08/2021', 'Dosis_Administradas': '25.642.416', 'Personas_Vacunadas': '13.828.490', 'Completamente_vacunadados': '12.320.188', 'Porcentaje_vacunados': '64,48%'}, {'Fecha': '31/07/2021', 'Dosis_Administradas': '25.479.218', 'Personas_Vacunadas': '13.810.109', 'Completamente_vacunadados': '12.174.521', 'Porcentaje_vacunados': '63,72%'}, {'Fecha': '30/07/2021', 'Dosis_Administradas': '25.444.116', 'Personas_Vacunadas': '13.801.885', 'Completamente_vacunadados': '12.147.091', 'Porcentaje_vacunados': '63,57%'}, {'Fecha': '29/07/2021', 'Dosis_Administradas': '25.444.116', 'Personas_Vacunadas': '13.801.885', 'Completamente_vacunadados': '12.147.091', 'Porcentaje_vacunados': '63,57%'}, {'Fecha': '28/07/2021', 'Dosis_Administradas': '25.337.393', 'Personas_Vacunadas': '13.772.232', 'Completamente_vacunadados': '12.068.193', 'Porcentaje_vacunados': '63,16%'}, {'Fecha': '27/07/2021', 'Dosis_Administradas': '25.337.393', 'Personas_Vacunadas': '13.772.232', 'Completamente_vacunadados': '12.068.193', 'Porcentaje_vacunados': '63,16%'}, {'Fecha': '26/07/2021', 'Dosis_Administradas': '25.337.393', 'Personas_Vacunadas': '13.772.232', 'Completamente_vacunadados': '12.068.193', 'Porcentaje_vacunados': '63,16%'}, {'Fecha': '25/07/2021', 'Dosis_Administradas': '25.006.481', 'Personas_Vacunadas': '13.746.792', 'Completamente_vacunadados': '12.056.448', 'Porcentaje_vacunados': '63,10%'}, {'Fecha': '24/07/2021', 'Dosis_Administradas': '25.006.481', 'Personas_Vacunadas': '13.614.965', 'Completamente_vacunadados': '11.888.753', 'Porcentaje_vacunados': '62,22%'}, {'Fecha': '23/07/2021', 'Dosis_Administradas': '25.006.481', 'Personas_Vacunadas': '13.614.965', 'Completamente_vacunadados': '11.888.753', 'Porcentaje_vacunados': '62,22%'}, {'Fecha': '22/07/2021', 'Dosis_Administradas': '24.763.645', 'Personas_Vacunadas': '13.523.925', 'Completamente_vacunadados': '11.732.581', 'Porcentaje_vacunados': '61,40%'}, {'Fecha': '21/07/2021', 'Dosis_Administradas': '24.763.645', 'Personas_Vacunadas': '13.523.925', 'Completamente_vacunadados': '11.732.581', 'Porcentaje_vacunados': '61,40%'}, {'Fecha': '20/07/2021', 'Dosis_Administradas': '24.761.379', 'Personas_Vacunadas': '13.523.925', 'Completamente_vacunadados': '11.732.581', 'Porcentaje_vacunados': '61,40%'}, {'Fecha': '19/07/2021', 'Dosis_Administradas': '24.729.280', 'Personas_Vacunadas': '13.522.828', 'Completamente_vacunadados': '11.731.291', 'Porcentaje_vacunados': '61,40%'}, {'Fecha': '18/07/2021', 'Dosis_Administradas': '24.729.280', 'Personas_Vacunadas': '13.507.561', 'Completamente_vacunadados': '11.713.620', 'Porcentaje_vacunados': '61,31%'}, {'Fecha': '17/07/2021', 'Dosis_Administradas': '24.729.280', 'Personas_Vacunadas': '13.507.561', 'Completamente_vacunadados': '11.713.620', 'Porcentaje_vacunados': '61,31%'}, {'Fecha': '16/07/2021', 'Dosis_Administradas': '24.248.545', 'Personas_Vacunadas': '13.291.457', 'Completamente_vacunadados': '11.438.183', 'Porcentaje_vacunados': '59,86%'}, {'Fecha': '15/07/2021', 'Dosis_Administradas': '24.248.545', 'Personas_Vacunadas': '13.291.457', 'Completamente_vacunadados': '11.438.183', 'Porcentaje_vacunados': '59,86%'}, {'Fecha': '14/07/2021', 'Dosis_Administradas': '24.248.545', 'Personas_Vacunadas': '13.291.457', 'Completamente_vacunadados': '11.438.183', 'Porcentaje_vacunados': '59,86%'}, {'Fecha': '13/07/2021', 'Dosis_Administradas': '24.096.859', 'Personas_Vacunadas': '13.236.865', 'Completamente_vacunadados': '11.336.906', 'Porcentaje_vacunados': '59,33%'}, {'Fecha': '12/07/2021', 'Dosis_Administradas': '24.053.548', 'Personas_Vacunadas': '13.214.146', 'Completamente_vacunadados': '11.314.570', 'Porcentaje_vacunados': '59,22%'}, {'Fecha': '11/07/2021', 'Dosis_Administradas': '24.053.548', 'Personas_Vacunadas': '13.214.146', 'Completamente_vacunadados': '11.314.570', 'Porcentaje_vacunados': '59,22%'}, {'Fecha': '10/07/2021', 'Dosis_Administradas': '23.695.994', 'Personas_Vacunadas': '13.056.238', 'Completamente_vacunadados': '11.107.065', 'Porcentaje_vacunados': '58,13%'}, {'Fecha': '09/07/2021', 'Dosis_Administradas': '23.545.029', 'Personas_Vacunadas': '12.978.369', 'Completamente_vacunadados': '11.028.911', 'Porcentaje_vacunados': '57,72%'}, {'Fecha': '08/07/2021', 'Dosis_Administradas': '23.545.029', 'Personas_Vacunadas': '12.978.369', 'Completamente_vacunadados': '11.028.911', 'Porcentaje_vacunados': '57,72%'}, {'Fecha': '07/07/2021', 'Dosis_Administradas': '23.545.029', 'Personas_Vacunadas': '12.978.369', 'Completamente_vacunadados': '11.028.911', 'Porcentaje_vacunados': '57,72%'}, {'Fecha': '06/07/2021', 'Dosis_Administradas': '23.297.750', 'Personas_Vacunadas': '12.866.736', 'Completamente_vacunadados': '10.874.517', 'Porcentaje_vacunados': '56,91%'}, {'Fecha': '05/07/2021', 'Dosis_Administradas': '23.297.750', 'Personas_Vacunadas': '12.866.736', 'Completamente_vacunadados': '10.874.517', 'Porcentaje_vacunados': '56,91%'}, {'Fecha': '04/07/2021', 'Dosis_Administradas': '23.135.719', 'Personas_Vacunadas': '12.667.502', 'Completamente_vacunadados': '10.684.303', 'Porcentaje_vacunados': '55,92%'}, {'Fecha': '03/07/2021', 'Dosis_Administradas': '23.102.886', 'Personas_Vacunadas': '12.667.502', 'Completamente_vacunadados': '10.684.303', 'Porcentaje_vacunados': '55,92%'}, {'Fecha': '02/07/2021', 'Dosis_Administradas': '22.883.806', 'Personas_Vacunadas': '12.596.361', 'Completamente_vacunadados': '10.533.144', 'Porcentaje_vacunados': '55,13%'}, {'Fecha': '01/07/2021', 'Dosis_Administradas': '22.883.806', 'Personas_Vacunadas': '12.596.361', 'Completamente_vacunadados': '10.533.144', 'Porcentaje_vacunados': '55,13%'}, {'Fecha': '30/06/2021', 'Dosis_Administradas': '22.694.682', 'Personas_Vacunadas': '12.527.175', 'Completamente_vacunadados': '10.340.292', 'Porcentaje_vacunados': '54,12%'}, {'Fecha': '29/06/2021', 'Dosis_Administradas': '22.501.356', 'Personas_Vacunadas': '12.524.475', 'Completamente_vacunadados': '10.335.671', 'Porcentaje_vacunados': '54,09%'}, {'Fecha': '28/06/2021', 'Dosis_Administradas': '22.494.947', 'Personas_Vacunadas': '12.521.570', 'Completamente_vacunadados': '10.330.751', 'Porcentaje_vacunados': '54,07%'}, {'Fecha': '27/06/2021', 'Dosis_Administradas': '22.494.947', 'Personas_Vacunadas': '12.521.570', 'Completamente_vacunadados': '10.330.751', 'Porcentaje_vacunados': '54,07%'}, {'Fecha': '26/06/2021', 'Dosis_Administradas': '22.409.489', 'Personas_Vacunadas': '12.296.918', 'Completamente_vacunadados': '9.917.819', 'Porcentaje_vacunados': '51,91%'}, {'Fecha': '25/06/2021', 'Dosis_Administradas': '22.211.686', 'Personas_Vacunadas': '12.206.213', 'Completamente_vacunadados': '9.747.151', 'Porcentaje_vacunados': '51,01%'}, {'Fecha': '24/06/2021', 'Dosis_Administradas': '21.966.892', 'Personas_Vacunadas': '12.206.213', 'Completamente_vacunadados': '9.747.151', 'Porcentaje_vacunados': '51,01%'}, {'Fecha': '23/06/2021', 'Dosis_Administradas': '21.731.308', 'Personas_Vacunadas': '12.206.213', 'Completamente_vacunadados': '9.747.151', 'Porcentaje_vacunados': '51,01%'}, {'Fecha': '22/06/2021', 'Dosis_Administradas': '21.446.822', 'Personas_Vacunadas': '12.108.917', 'Completamente_vacunadados': '9.556.354', 'Porcentaje_vacunados': '50,01%'}, {'Fecha': '21/06/2021', 'Dosis_Administradas': '21.385.816', 'Personas_Vacunadas': '12.081.916', 'Completamente_vacunadados': '9.521.763', 'Porcentaje_vacunados': '49,83%'}, {'Fecha': '20/06/2021', 'Dosis_Administradas': '21.385.816', 'Personas_Vacunadas': '11.832.667', 'Completamente_vacunadados': '9.241.584', 'Porcentaje_vacunados': '48,37%'}, {'Fecha': '19/06/2021', 'Dosis_Administradas': '21.385.816', 'Personas_Vacunadas': '11.832.667', 'Completamente_vacunadados': '9.241.584', 'Porcentaje_vacunados': '48,37%'}, {'Fecha': '18/06/2021', 'Dosis_Administradas': '20.865.931', 'Personas_Vacunadas': '11.832.667', 'Completamente_vacunadados': '9.241.584', 'Porcentaje_vacunados': '48,37%'}, {'Fecha': '17/06/2021', 'Dosis_Administradas': '20.865.931', 'Personas_Vacunadas': '11.832.667', 'Completamente_vacunadados': '9.241.584', 'Porcentaje_vacunados': '48,37%'}, {'Fecha': '16/06/2021', 'Dosis_Administradas': '20.865.931', 'Personas_Vacunadas': '11.744.468', 'Completamente_vacunadados': '9.117.659', 'Porcentaje_vacunados': '47,72%'}, {'Fecha': '15/06/2021', 'Dosis_Administradas': '20.865.931', 'Personas_Vacunadas': '11.744.468', 'Completamente_vacunadados': '9.117.659', 'Porcentaje_vacunados': '47,72%'}, {'Fecha': '14/06/2021', 'Dosis_Administradas': '20.443.746', 'Personas_Vacunadas': '11.639.399', 'Completamente_vacunadados': '9.005.224', 'Porcentaje_vacunados': '47,13%'}, {'Fecha': '13/06/2021', 'Dosis_Administradas': '20.403.835', 'Personas_Vacunadas': '11.612.320', 'Completamente_vacunadados': '8.991.704', 'Porcentaje_vacunados': '47,06%'}, {'Fecha': '12/06/2021', 'Dosis_Administradas': '20.403.835', 'Personas_Vacunadas': '11.612.320', 'Completamente_vacunadados': '8.991.704', 'Porcentaje_vacunados': '47,06%'}, {'Fecha': '11/06/2021', 'Dosis_Administradas': '20.223.473', 'Personas_Vacunadas': '11.526.443', 'Completamente_vacunadados': '8.892.643', 'Porcentaje_vacunados': '46,54%'}, {'Fecha': '10/06/2021', 'Dosis_Administradas': '20.020.810', 'Personas_Vacunadas': '11.416.884', 'Completamente_vacunadados': '8.786.431', 'Porcentaje_vacunados': '45,99%'}, {'Fecha': '09/06/2021', 'Dosis_Administradas': '19.829.017', 'Personas_Vacunadas': '11.324.911', 'Completamente_vacunadados': '8.669.868', 'Porcentaje_vacunados': '45,38%'}, {'Fecha': '08/06/2021', 'Dosis_Administradas': '19.644.506', 'Personas_Vacunadas': '11.244.773', 'Completamente_vacunadados': '8.544.845', 'Porcentaje_vacunados': '44,72%'}, {'Fecha': '07/06/2021', 'Dosis_Administradas': '19.467.845', 'Personas_Vacunadas': '11.165.273', 'Completamente_vacunadados': '8.420.205', 'Porcentaje_vacunados': '44,07%'}, {'Fecha': '06/06/2021', 'Dosis_Administradas': '19.462.408', 'Personas_Vacunadas': '11.161.231', 'Completamente_vacunadados': '8.416.900', 'Porcentaje_vacunados': '44,05%'}, {'Fecha': '05/06/2021', 'Dosis_Administradas': '19.421.783', 'Personas_Vacunadas': '11.134.976', 'Completamente_vacunadados': '8.392.002', 'Porcentaje_vacunados': '43,92%'}, {'Fecha': '04/06/2021', 'Dosis_Administradas': '19.274.563', 'Personas_Vacunadas': '10.928.685', 'Completamente_vacunadados': '8.149.060', 'Porcentaje_vacunados': '42,65%'}, {'Fecha': '03/06/2021', 'Dosis_Administradas': '19.108.973', 'Personas_Vacunadas': '10.928.685', 'Completamente_vacunadados': '8.149.060', 'Porcentaje_vacunados': '42,65%'}]\n"
     ]
    }
   ],
   "source": [
    "Datos2=[]\n",
    "Fecha2=[]\n",
    "\n",
    "i=0\n",
    "k=0\n",
    "\n",
    "\n",
    "Datos = soup.find_all(\"td\" , class_=\"numero\")\n",
    "Fecha = soup.find_all(\"td\" , class_=\"fecha\")\n",
    "\n",
    "\n",
    "\n",
    "\n",
    "extracted = []\n",
    "\n",
    "for element in Datos:\n",
    "    \n",
    "    element=str(element)\n",
    "    limpio=str(element[find_1st(element, '>')+1:find_2nd(element,'<')])\n",
    "    Datos2.append(limpio.strip())\n",
    "  \n",
    "\n",
    "    \n",
    "for element in Fecha:\n",
    "    \n",
    "    element=str(element)\n",
    "    limpio=str(element[find_1st(element, '>')+1:find_2nd(element,'<')])\n",
    "    Fecha2.append(limpio.strip())\n",
    "     \n",
    "   \n",
    "\n",
    "  \n",
    "for ele in range(100):\n",
    "    extracted.append({\n",
    "       'Fecha' : Fecha2[k],   \n",
    "       'Dosis_Administradas'  : Datos2[i],\n",
    "       'Personas_Vacunadas':Datos2[i+1],\n",
    "       'Completamente_vacunadados':Datos2[i+2],\n",
    "       'Porcentaje_vacunados':Datos2[i+3],\n",
    "       \n",
    "    })\n",
    "    i=i+4\n",
    "    k=k+1\n",
    "\n",
    "\n",
    "print (extracted)\n"
   ]
  },
  {
   "cell_type": "code",
   "execution_count": 3,
   "id": "f1ebaa77",
   "metadata": {},
   "outputs": [
    {
     "name": "stdout",
     "output_type": "stream",
     "text": [
      "Writing complete\n"
     ]
    }
   ],
   "source": [
    "import csv\n",
    "l = 0\n",
    "with open('V_Chile.csv', 'w') as csvfile:\n",
    "    fieldnames = ['Fecha','Dosis_Administradas','Personas_Vacunadas','Completamente_vacunadados','Porcentaje_vacunados']\n",
    "    writer = csv.DictWriter(csvfile, fieldnames=fieldnames)\n",
    " \n",
    "    writer.writeheader()\n",
    "    for element in extracted:\n",
    "        writer.writerow(extracted[l])\n",
    "        l = l +1\n",
    " \n",
    " \n",
    "print(\"Writing complete\")"
   ]
  },
  {
   "cell_type": "code",
   "execution_count": null,
   "id": "0a674fe1",
   "metadata": {},
   "outputs": [],
   "source": []
  },
  {
   "cell_type": "code",
   "execution_count": null,
   "id": "c404d52b",
   "metadata": {},
   "outputs": [],
   "source": []
  }
 ],
 "metadata": {
  "kernelspec": {
   "display_name": "Python 3 (ipykernel)",
   "language": "python",
   "name": "python3"
  },
  "language_info": {
   "codemirror_mode": {
    "name": "ipython",
    "version": 3
   },
   "file_extension": ".py",
   "mimetype": "text/x-python",
   "name": "python",
   "nbconvert_exporter": "python",
   "pygments_lexer": "ipython3",
   "version": "3.9.6"
  }
 },
 "nbformat": 4,
 "nbformat_minor": 5
}
