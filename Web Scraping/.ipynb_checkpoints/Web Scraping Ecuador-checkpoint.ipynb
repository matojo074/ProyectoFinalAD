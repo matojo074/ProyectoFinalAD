{
 "cells": [
  {
   "cell_type": "code",
   "execution_count": 3,
   "id": "3f34038f",
   "metadata": {},
   "outputs": [],
   "source": [
    "from bs4 import BeautifulSoup\n",
    "import requests \n",
    "import pandas as pd\n",
    "import json\n",
    "\n",
    "url = 'https://www.paralympic.org/tokyo-2020/results/medalstandings?utm_campaign=dp_google'\n",
    "page = requests.get(url)\n",
    "soup = BeautifulSoup(page.content, \"html.parser\")\n",
    "\n",
    "\n",
    "def find_2nd(string, substring):\n",
    "    return string.find(substring, string.find(substring) + 1)\n",
    "def find_1st(string, substring):\n",
    "    return string.find(substring, string.find(substring))   "
   ]
  },
  {
   "cell_type": "code",
   "execution_count": 4,
   "id": "aba551ee",
   "metadata": {},
   "outputs": [
    {
     "name": "stdout",
     "output_type": "stream",
     "text": [
      "[]\n"
     ]
    }
   ],
   "source": [
    "Posicion=[]\n",
    "Pais=[]\n",
    "Puntos=[]\n",
    "\n",
    "\n",
    "\n",
    "pais = soup.find_all(\"span\", class_=\"StyledMedalBadge-sc-66o6g9-0 etPpvq\")\n",
    "#punt = soup.find_all(\"td\", class_=\"numero eur\")\n",
    "\n",
    "\n",
    "\n",
    "extracted = []\n",
    "\n",
    "for element in pais:\n",
    "    #print(element)\n",
    "    element=str(element)\n",
    "    limpio=str(element[find_1st(element, '>')+1:find_2nd(element,'<')])\n",
    "    Posicion.append(limpio.strip())\n",
    "    \n",
    "\n",
    "print (pais)\n"
   ]
  },
  {
   "cell_type": "code",
   "execution_count": null,
   "id": "f1ebaa77",
   "metadata": {},
   "outputs": [],
   "source": []
  },
  {
   "cell_type": "code",
   "execution_count": null,
   "id": "894916fb",
   "metadata": {},
   "outputs": [],
   "source": []
  }
 ],
 "metadata": {
  "kernelspec": {
   "display_name": "Python 3 (ipykernel)",
   "language": "python",
   "name": "python3"
  },
  "language_info": {
   "codemirror_mode": {
    "name": "ipython",
    "version": 3
   },
   "file_extension": ".py",
   "mimetype": "text/x-python",
   "name": "python",
   "nbconvert_exporter": "python",
   "pygments_lexer": "ipython3",
   "version": "3.9.6"
  }
 },
 "nbformat": 4,
 "nbformat_minor": 5
}
