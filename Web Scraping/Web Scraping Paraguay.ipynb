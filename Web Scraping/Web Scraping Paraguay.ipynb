{
 "cells": [
  {
   "cell_type": "code",
   "execution_count": 1,
   "id": "3f34038f",
   "metadata": {},
   "outputs": [],
   "source": [
    "from bs4 import BeautifulSoup\n",
    "import requests \n",
    "import pandas as pd\n",
    "import json\n",
    "\n",
    "url = 'https://datosmacro.expansion.com/otros/coronavirus-vacuna/paraguay'\n",
    "page = requests.get(url)\n",
    "soup = BeautifulSoup(page.content, \"html.parser\")\n",
    "\n",
    "\n",
    "def find_2nd(string, substring):\n",
    "    return string.find(substring, string.find(substring) + 1)\n",
    "def find_1st(string, substring):\n",
    "    return string.find(substring, string.find(substring))   "
   ]
  },
  {
   "cell_type": "code",
   "execution_count": 2,
   "id": "aba551ee",
   "metadata": {},
   "outputs": [
    {
     "name": "stdout",
     "output_type": "stream",
     "text": [
      "[{'Fecha': '10/09/2021', 'Dosis_Administradas': '4.095.681', 'Personas_Vacunadas': '2.286.112', 'Completamente_vacunadados': '1.809.569', 'Porcentaje_vacunados': '25,30%'}, {'Fecha': '09/09/2021', 'Dosis_Administradas': '4.095.681', 'Personas_Vacunadas': '2.286.112', 'Completamente_vacunadados': '1.809.569', 'Porcentaje_vacunados': '25,30%'}, {'Fecha': '08/09/2021', 'Dosis_Administradas': '4.095.681', 'Personas_Vacunadas': '2.286.112', 'Completamente_vacunadados': '1.809.569', 'Porcentaje_vacunados': '25,30%'}, {'Fecha': '07/09/2021', 'Dosis_Administradas': '4.095.681', 'Personas_Vacunadas': '2.286.112', 'Completamente_vacunadados': '1.809.569', 'Porcentaje_vacunados': '25,30%'}, {'Fecha': '06/09/2021', 'Dosis_Administradas': '4.095.681', 'Personas_Vacunadas': '2.286.112', 'Completamente_vacunadados': '1.809.569', 'Porcentaje_vacunados': '25,30%'}, {'Fecha': '05/09/2021', 'Dosis_Administradas': '4.048.333', 'Personas_Vacunadas': '2.264.629', 'Completamente_vacunadados': '1.783.704', 'Porcentaje_vacunados': '24,94%'}, {'Fecha': '04/09/2021', 'Dosis_Administradas': '4.048.333', 'Personas_Vacunadas': '2.264.629', 'Completamente_vacunadados': '1.783.704', 'Porcentaje_vacunados': '24,94%'}, {'Fecha': '03/09/2021', 'Dosis_Administradas': '4.048.333', 'Personas_Vacunadas': '2.264.629', 'Completamente_vacunadados': '1.783.704', 'Porcentaje_vacunados': '24,94%'}, {'Fecha': '02/09/2021', 'Dosis_Administradas': '3.928.259', 'Personas_Vacunadas': '2.266.494', 'Completamente_vacunadados': '1.661.765', 'Porcentaje_vacunados': '23,23%'}, {'Fecha': '01/09/2021', 'Dosis_Administradas': '3.928.259', 'Personas_Vacunadas': '2.266.494', 'Completamente_vacunadados': '1.661.765', 'Porcentaje_vacunados': '23,23%'}, {'Fecha': '31/08/2021', 'Dosis_Administradas': '3.928.259', 'Personas_Vacunadas': '2.266.494', 'Completamente_vacunadados': '1.661.765', 'Porcentaje_vacunados': '23,23%'}, {'Fecha': '30/08/2021', 'Dosis_Administradas': '3.928.259', 'Personas_Vacunadas': '2.266.494', 'Completamente_vacunadados': '1.661.765', 'Porcentaje_vacunados': '23,23%'}, {'Fecha': '29/08/2021', 'Dosis_Administradas': '3.928.259', 'Personas_Vacunadas': '2.266.494', 'Completamente_vacunadados': '1.661.765', 'Porcentaje_vacunados': '23,23%'}, {'Fecha': '28/08/2021', 'Dosis_Administradas': '3.928.259', 'Personas_Vacunadas': '2.266.494', 'Completamente_vacunadados': '1.661.765', 'Porcentaje_vacunados': '23,23%'}, {'Fecha': '27/08/2021', 'Dosis_Administradas': '3.784.757', 'Personas_Vacunadas': '2.253.992', 'Completamente_vacunadados': '1.530.765', 'Porcentaje_vacunados': '21,40%'}, {'Fecha': '26/08/2021', 'Dosis_Administradas': '3.784.757', 'Personas_Vacunadas': '2.253.992', 'Completamente_vacunadados': '1.530.765', 'Porcentaje_vacunados': '21,40%'}, {'Fecha': '25/08/2021', 'Dosis_Administradas': '3.784.757', 'Personas_Vacunadas': '2.253.992', 'Completamente_vacunadados': '1.530.765', 'Porcentaje_vacunados': '21,40%'}, {'Fecha': '24/08/2021', 'Dosis_Administradas': '3.784.757', 'Personas_Vacunadas': '2.253.992', 'Completamente_vacunadados': '1.530.765', 'Porcentaje_vacunados': '21,40%'}, {'Fecha': '23/08/2021', 'Dosis_Administradas': '3.784.757', 'Personas_Vacunadas': '2.253.992', 'Completamente_vacunadados': '1.530.765', 'Porcentaje_vacunados': '21,40%'}, {'Fecha': '22/08/2021', 'Dosis_Administradas': '3.784.757', 'Personas_Vacunadas': '2.253.992', 'Completamente_vacunadados': '1.530.765', 'Porcentaje_vacunados': '21,40%'}, {'Fecha': '21/08/2021', 'Dosis_Administradas': '3.784.757', 'Personas_Vacunadas': '2.253.992', 'Completamente_vacunadados': '1.530.765', 'Porcentaje_vacunados': '21,40%'}, {'Fecha': '20/08/2021', 'Dosis_Administradas': '3.611.565', 'Personas_Vacunadas': '2.217.446', 'Completamente_vacunadados': '1.394.119', 'Porcentaje_vacunados': '19,49%'}, {'Fecha': '19/08/2021', 'Dosis_Administradas': '3.278.382', 'Personas_Vacunadas': '2.249.679', 'Completamente_vacunadados': '1.028.703', 'Porcentaje_vacunados': '14,38%'}, {'Fecha': '18/08/2021', 'Dosis_Administradas': '3.278.382', 'Personas_Vacunadas': '1.837.008', 'Completamente_vacunadados': '286.989', 'Porcentaje_vacunados': '4,01%'}, {'Fecha': '17/08/2021', 'Dosis_Administradas': '3.278.382', 'Personas_Vacunadas': '1.837.008', 'Completamente_vacunadados': '286.989', 'Porcentaje_vacunados': '4,01%'}, {'Fecha': '16/08/2021', 'Dosis_Administradas': '3.278.382', 'Personas_Vacunadas': '1.837.008', 'Completamente_vacunadados': '286.989', 'Porcentaje_vacunados': '4,01%'}, {'Fecha': '15/08/2021', 'Dosis_Administradas': '2.793.726', 'Personas_Vacunadas': '1.837.008', 'Completamente_vacunadados': '286.989', 'Porcentaje_vacunados': '4,01%'}, {'Fecha': '14/08/2021', 'Dosis_Administradas': '2.793.726', 'Personas_Vacunadas': '1.837.008', 'Completamente_vacunadados': '286.989', 'Porcentaje_vacunados': '4,01%'}, {'Fecha': '13/08/2021', 'Dosis_Administradas': '2.793.726', 'Personas_Vacunadas': '1.837.008', 'Completamente_vacunadados': '286.989', 'Porcentaje_vacunados': '4,01%'}, {'Fecha': '12/08/2021', 'Dosis_Administradas': '2.793.726', 'Personas_Vacunadas': '1.837.008', 'Completamente_vacunadados': '286.989', 'Porcentaje_vacunados': '4,01%'}, {'Fecha': '11/08/2021', 'Dosis_Administradas': '2.793.726', 'Personas_Vacunadas': '1.837.008', 'Completamente_vacunadados': '286.989', 'Porcentaje_vacunados': '4,01%'}, {'Fecha': '10/08/2021', 'Dosis_Administradas': '2.793.726', 'Personas_Vacunadas': '1.837.008', 'Completamente_vacunadados': '286.989', 'Porcentaje_vacunados': '4,01%'}, {'Fecha': '09/08/2021', 'Dosis_Administradas': '2.793.726', 'Personas_Vacunadas': '1.837.008', 'Completamente_vacunadados': '286.989', 'Porcentaje_vacunados': '4,01%'}, {'Fecha': '08/08/2021', 'Dosis_Administradas': '2.445.978', 'Personas_Vacunadas': '1.837.008', 'Completamente_vacunadados': '286.989', 'Porcentaje_vacunados': '4,01%'}, {'Fecha': '07/08/2021', 'Dosis_Administradas': '2.445.978', 'Personas_Vacunadas': '1.837.008', 'Completamente_vacunadados': '286.989', 'Porcentaje_vacunados': '4,01%'}, {'Fecha': '06/08/2021', 'Dosis_Administradas': '2.445.978', 'Personas_Vacunadas': '1.837.008', 'Completamente_vacunadados': '286.989', 'Porcentaje_vacunados': '4,01%'}, {'Fecha': '05/08/2021', 'Dosis_Administradas': '2.445.978', 'Personas_Vacunadas': '1.837.008', 'Completamente_vacunadados': '286.989', 'Porcentaje_vacunados': '4,01%'}, {'Fecha': '04/08/2021', 'Dosis_Administradas': '2.445.978', 'Personas_Vacunadas': '1.837.008', 'Completamente_vacunadados': '286.989', 'Porcentaje_vacunados': '4,01%'}, {'Fecha': '03/08/2021', 'Dosis_Administradas': '2.445.978', 'Personas_Vacunadas': '1.837.008', 'Completamente_vacunadados': '286.989', 'Porcentaje_vacunados': '4,01%'}, {'Fecha': '02/08/2021', 'Dosis_Administradas': '2.123.997', 'Personas_Vacunadas': '1.837.008', 'Completamente_vacunadados': '286.989', 'Porcentaje_vacunados': '4,01%'}, {'Fecha': '01/08/2021', 'Dosis_Administradas': '2.123.997', 'Personas_Vacunadas': '1.837.008', 'Completamente_vacunadados': '286.989', 'Porcentaje_vacunados': '4,01%'}, {'Fecha': '31/07/2021', 'Dosis_Administradas': '2.123.997', 'Personas_Vacunadas': '1.837.008', 'Completamente_vacunadados': '286.989', 'Porcentaje_vacunados': '4,01%'}, {'Fecha': '30/07/2021', 'Dosis_Administradas': '2.123.997', 'Personas_Vacunadas': '1.837.008', 'Completamente_vacunadados': '286.989', 'Porcentaje_vacunados': '4,01%'}, {'Fecha': '29/07/2021', 'Dosis_Administradas': '2.123.997', 'Personas_Vacunadas': '1.837.008', 'Completamente_vacunadados': '286.989', 'Porcentaje_vacunados': '4,01%'}, {'Fecha': '28/07/2021', 'Dosis_Administradas': '2.123.997', 'Personas_Vacunadas': '1.837.008', 'Completamente_vacunadados': '286.989', 'Porcentaje_vacunados': '4,01%'}, {'Fecha': '27/07/2021', 'Dosis_Administradas': '2.123.997', 'Personas_Vacunadas': '1.837.008', 'Completamente_vacunadados': '286.989', 'Porcentaje_vacunados': '4,01%'}, {'Fecha': '26/07/2021', 'Dosis_Administradas': '2.123.997', 'Personas_Vacunadas': '1.837.008', 'Completamente_vacunadados': '286.989', 'Porcentaje_vacunados': '4,01%'}, {'Fecha': '25/07/2021', 'Dosis_Administradas': '2.016.734', 'Personas_Vacunadas': '761.386', 'Completamente_vacunadados': '141.123', 'Porcentaje_vacunados': '1,97%'}, {'Fecha': '24/07/2021', 'Dosis_Administradas': '2.016.734', 'Personas_Vacunadas': '761.386', 'Completamente_vacunadados': '141.123', 'Porcentaje_vacunados': '1,97%'}, {'Fecha': '23/07/2021', 'Dosis_Administradas': '1.742.042', 'Personas_Vacunadas': '761.386', 'Completamente_vacunadados': '141.123', 'Porcentaje_vacunados': '1,97%'}, {'Fecha': '22/07/2021', 'Dosis_Administradas': '1.620.796', 'Personas_Vacunadas': '761.386', 'Completamente_vacunadados': '141.123', 'Porcentaje_vacunados': '1,97%'}, {'Fecha': '21/07/2021', 'Dosis_Administradas': '1.620.796', 'Personas_Vacunadas': '761.386', 'Completamente_vacunadados': '141.123', 'Porcentaje_vacunados': '1,97%'}, {'Fecha': '20/07/2021', 'Dosis_Administradas': '1.543.932', 'Personas_Vacunadas': '761.386', 'Completamente_vacunadados': '141.123', 'Porcentaje_vacunados': '1,97%'}, {'Fecha': '19/07/2021', 'Dosis_Administradas': '1.543.932', 'Personas_Vacunadas': '761.386', 'Completamente_vacunadados': '141.123', 'Porcentaje_vacunados': '1,97%'}, {'Fecha': '18/07/2021', 'Dosis_Administradas': '1.543.932', 'Personas_Vacunadas': '688.526', 'Completamente_vacunadados': '138.116', 'Porcentaje_vacunados': '1,93%'}, {'Fecha': '17/07/2021', 'Dosis_Administradas': '1.353.835', 'Personas_Vacunadas': '688.526', 'Completamente_vacunadados': '138.116', 'Porcentaje_vacunados': '1,93%'}, {'Fecha': '16/07/2021', 'Dosis_Administradas': '1.353.835', 'Personas_Vacunadas': '688.526', 'Completamente_vacunadados': '138.116', 'Porcentaje_vacunados': '1,93%'}, {'Fecha': '15/07/2021', 'Dosis_Administradas': '1.276.990', 'Personas_Vacunadas': '688.526', 'Completamente_vacunadados': '138.116', 'Porcentaje_vacunados': '1,93%'}, {'Fecha': '14/07/2021', 'Dosis_Administradas': '1.087.322', 'Personas_Vacunadas': '688.526', 'Completamente_vacunadados': '138.116', 'Porcentaje_vacunados': '1,93%'}, {'Fecha': '13/07/2021', 'Dosis_Administradas': '1.087.322', 'Personas_Vacunadas': '688.526', 'Completamente_vacunadados': '138.116', 'Porcentaje_vacunados': '1,93%'}, {'Fecha': '12/07/2021', 'Dosis_Administradas': '1.048.575', 'Personas_Vacunadas': '645.039', 'Completamente_vacunadados': '135.971', 'Porcentaje_vacunados': '1,90%'}, {'Fecha': '11/07/2021', 'Dosis_Administradas': '927.834', 'Personas_Vacunadas': '645.039', 'Completamente_vacunadados': '135.971', 'Porcentaje_vacunados': '1,90%'}, {'Fecha': '10/07/2021', 'Dosis_Administradas': '925.452', 'Personas_Vacunadas': '645.039', 'Completamente_vacunadados': '135.971', 'Porcentaje_vacunados': '1,90%'}, {'Fecha': '09/07/2021', 'Dosis_Administradas': '920.995', 'Personas_Vacunadas': '645.039', 'Completamente_vacunadados': '135.971', 'Porcentaje_vacunados': '1,90%'}, {'Fecha': '08/07/2021', 'Dosis_Administradas': '913.415', 'Personas_Vacunadas': '645.039', 'Completamente_vacunadados': '135.971', 'Porcentaje_vacunados': '1,90%'}, {'Fecha': '07/07/2021', 'Dosis_Administradas': '902.094', 'Personas_Vacunadas': '645.039', 'Completamente_vacunadados': '135.971', 'Porcentaje_vacunados': '1,90%'}, {'Fecha': '06/07/2021', 'Dosis_Administradas': '902.094', 'Personas_Vacunadas': '526.960', 'Completamente_vacunadados': '133.391', 'Porcentaje_vacunados': '1,86%'}, {'Fecha': '05/07/2021', 'Dosis_Administradas': '902.094', 'Personas_Vacunadas': '526.960', 'Completamente_vacunadados': '133.391', 'Porcentaje_vacunados': '1,86%'}, {'Fecha': '04/07/2021', 'Dosis_Administradas': '791.704', 'Personas_Vacunadas': '526.960', 'Completamente_vacunadados': '133.391', 'Porcentaje_vacunados': '1,86%'}, {'Fecha': '03/07/2021', 'Dosis_Administradas': '783.265', 'Personas_Vacunadas': '526.960', 'Completamente_vacunadados': '133.391', 'Porcentaje_vacunados': '1,86%'}, {'Fecha': '02/07/2021', 'Dosis_Administradas': '783.265', 'Personas_Vacunadas': '526.960', 'Completamente_vacunadados': '133.391', 'Porcentaje_vacunados': '1,86%'}, {'Fecha': '01/07/2021', 'Dosis_Administradas': '783.265', 'Personas_Vacunadas': '526.960', 'Completamente_vacunadados': '133.391', 'Porcentaje_vacunados': '1,86%'}, {'Fecha': '30/06/2021', 'Dosis_Administradas': '783.265', 'Personas_Vacunadas': '526.960', 'Completamente_vacunadados': '133.391', 'Porcentaje_vacunados': '1,86%'}, {'Fecha': '29/06/2021', 'Dosis_Administradas': '783.265', 'Personas_Vacunadas': '485.010', 'Completamente_vacunadados': '130.592', 'Porcentaje_vacunados': '1,83%'}, {'Fecha': '28/06/2021', 'Dosis_Administradas': '783.265', 'Personas_Vacunadas': '485.010', 'Completamente_vacunadados': '130.592', 'Porcentaje_vacunados': '1,83%'}, {'Fecha': '27/06/2021', 'Dosis_Administradas': '665.718', 'Personas_Vacunadas': '485.010', 'Completamente_vacunadados': '130.592', 'Porcentaje_vacunados': '1,83%'}, {'Fecha': '26/06/2021', 'Dosis_Administradas': '662.769', 'Personas_Vacunadas': '485.010', 'Completamente_vacunadados': '130.592', 'Porcentaje_vacunados': '1,83%'}, {'Fecha': '25/06/2021', 'Dosis_Administradas': '662.804', 'Personas_Vacunadas': '422.474', 'Completamente_vacunadados': '240.330', 'Porcentaje_vacunados': '3,36%'}, {'Fecha': '24/06/2021', 'Dosis_Administradas': '662.804', 'Personas_Vacunadas': '422.474', 'Completamente_vacunadados': '240.330', 'Porcentaje_vacunados': '3,36%'}, {'Fecha': '23/06/2021', 'Dosis_Administradas': '662.804', 'Personas_Vacunadas': '422.474', 'Completamente_vacunadados': '240.330', 'Porcentaje_vacunados': '3,36%'}, {'Fecha': '22/06/2021', 'Dosis_Administradas': '662.804', 'Personas_Vacunadas': '422.474', 'Completamente_vacunadados': '240.330', 'Porcentaje_vacunados': '3,36%'}, {'Fecha': '21/06/2021', 'Dosis_Administradas': '662.804', 'Personas_Vacunadas': '422.474', 'Completamente_vacunadados': '240.330', 'Porcentaje_vacunados': '3,36%'}, {'Fecha': '20/06/2021', 'Dosis_Administradas': '662.804', 'Personas_Vacunadas': '422.474', 'Completamente_vacunadados': '240.330', 'Porcentaje_vacunados': '3,36%'}, {'Fecha': '19/06/2021', 'Dosis_Administradas': '662.804', 'Personas_Vacunadas': '422.474', 'Completamente_vacunadados': '240.330', 'Porcentaje_vacunados': '3,36%'}, {'Fecha': '18/06/2021', 'Dosis_Administradas': '662.804', 'Personas_Vacunadas': '422.474', 'Completamente_vacunadados': '240.330', 'Porcentaje_vacunados': '3,36%'}, {'Fecha': '17/06/2021', 'Dosis_Administradas': '662.804', 'Personas_Vacunadas': '422.474', 'Completamente_vacunadados': '240.330', 'Porcentaje_vacunados': '3,36%'}, {'Fecha': '16/06/2021', 'Dosis_Administradas': '527.527', 'Personas_Vacunadas': '315.186', 'Completamente_vacunadados': '104.739', 'Porcentaje_vacunados': '1,46%'}, {'Fecha': '15/06/2021', 'Dosis_Administradas': '527.527', 'Personas_Vacunadas': '315.186', 'Completamente_vacunadados': '104.739', 'Porcentaje_vacunados': '1,46%'}, {'Fecha': '14/06/2021', 'Dosis_Administradas': '527.527', 'Personas_Vacunadas': '315.186', 'Completamente_vacunadados': '104.739', 'Porcentaje_vacunados': '1,46%'}, {'Fecha': '13/06/2021', 'Dosis_Administradas': '465.569', 'Personas_Vacunadas': '315.186', 'Completamente_vacunadados': '104.739', 'Porcentaje_vacunados': '1,46%'}, {'Fecha': '12/06/2021', 'Dosis_Administradas': '448.421', 'Personas_Vacunadas': '315.186', 'Completamente_vacunadados': '104.739', 'Porcentaje_vacunados': '1,46%'}, {'Fecha': '11/06/2021', 'Dosis_Administradas': '448.421', 'Personas_Vacunadas': '315.186', 'Completamente_vacunadados': '104.739', 'Porcentaje_vacunados': '1,46%'}, {'Fecha': '10/06/2021', 'Dosis_Administradas': '448.421', 'Personas_Vacunadas': '327.971', 'Completamente_vacunadados': '79.673', 'Porcentaje_vacunados': '1,11%'}, {'Fecha': '09/06/2021', 'Dosis_Administradas': '448.421', 'Personas_Vacunadas': '327.971', 'Completamente_vacunadados': '79.673', 'Porcentaje_vacunados': '1,11%'}, {'Fecha': '08/06/2021', 'Dosis_Administradas': '448.421', 'Personas_Vacunadas': '327.971', 'Completamente_vacunadados': '79.673', 'Porcentaje_vacunados': '1,11%'}, {'Fecha': '07/06/2021', 'Dosis_Administradas': '407.644', 'Personas_Vacunadas': '327.971', 'Completamente_vacunadados': '79.673', 'Porcentaje_vacunados': '1,11%'}, {'Fecha': '06/06/2021', 'Dosis_Administradas': '407.644', 'Personas_Vacunadas': '327.971', 'Completamente_vacunadados': '79.673', 'Porcentaje_vacunados': '1,11%'}, {'Fecha': '05/06/2021', 'Dosis_Administradas': '407.644', 'Personas_Vacunadas': '327.971', 'Completamente_vacunadados': '79.673', 'Porcentaje_vacunados': '1,11%'}, {'Fecha': '04/06/2021', 'Dosis_Administradas': '407.644', 'Personas_Vacunadas': '327.971', 'Completamente_vacunadados': '79.673', 'Porcentaje_vacunados': '1,11%'}, {'Fecha': '03/06/2021', 'Dosis_Administradas': '407.644', 'Personas_Vacunadas': '327.971', 'Completamente_vacunadados': '79.673', 'Porcentaje_vacunados': '1,11%'}]\n"
     ]
    }
   ],
   "source": [
    "Datos2=[]\n",
    "Fecha2=[]\n",
    "\n",
    "i=0\n",
    "k=0\n",
    "\n",
    "\n",
    "Datos = soup.find_all(\"td\" , class_=\"numero\")\n",
    "Fecha = soup.find_all(\"td\" , class_=\"fecha\")\n",
    "\n",
    "\n",
    "\n",
    "\n",
    "extracted = []\n",
    "\n",
    "for element in Datos:\n",
    "    \n",
    "    element=str(element)\n",
    "    limpio=str(element[find_1st(element, '>')+1:find_2nd(element,'<')])\n",
    "    Datos2.append(limpio.strip())\n",
    "  \n",
    "\n",
    "    \n",
    "for element in Fecha:\n",
    "    \n",
    "    element=str(element)\n",
    "    limpio=str(element[find_1st(element, '>')+1:find_2nd(element,'<')])\n",
    "    Fecha2.append(limpio.strip())\n",
    "     \n",
    "   \n",
    "\n",
    "  \n",
    "for ele in range(100):\n",
    "    extracted.append({\n",
    "       'Fecha' : Fecha2[k],   \n",
    "       'Dosis_Administradas'  : Datos2[i],\n",
    "       'Personas_Vacunadas':Datos2[i+1],\n",
    "       'Completamente_vacunadados':Datos2[i+2],\n",
    "       'Porcentaje_vacunados':Datos2[i+3],\n",
    "       \n",
    "    })\n",
    "    i=i+4\n",
    "    k=k+1\n",
    "\n",
    "\n",
    "print (extracted)\n"
   ]
  },
  {
   "cell_type": "code",
   "execution_count": 3,
   "id": "f1ebaa77",
   "metadata": {},
   "outputs": [
    {
     "name": "stdout",
     "output_type": "stream",
     "text": [
      "Writing complete\n"
     ]
    }
   ],
   "source": [
    "import csv\n",
    "l = 0\n",
    "with open('V_Paraguay.csv', 'w') as csvfile:\n",
    "    fieldnames = ['Fecha','Dosis_Administradas','Personas_Vacunadas','Completamente_vacunadados','Porcentaje_vacunados']\n",
    "    writer = csv.DictWriter(csvfile, fieldnames=fieldnames)\n",
    " \n",
    "    writer.writeheader()\n",
    "    for element in extracted:\n",
    "        writer.writerow(extracted[l])\n",
    "        l = l +1\n",
    " \n",
    " \n",
    "print(\"Writing complete\")"
   ]
  },
  {
   "cell_type": "code",
   "execution_count": null,
   "id": "0a674fe1",
   "metadata": {},
   "outputs": [],
   "source": []
  },
  {
   "cell_type": "code",
   "execution_count": null,
   "id": "c404d52b",
   "metadata": {},
   "outputs": [],
   "source": []
  }
 ],
 "metadata": {
  "kernelspec": {
   "display_name": "Python 3 (ipykernel)",
   "language": "python",
   "name": "python3"
  },
  "language_info": {
   "codemirror_mode": {
    "name": "ipython",
    "version": 3
   },
   "file_extension": ".py",
   "mimetype": "text/x-python",
   "name": "python",
   "nbconvert_exporter": "python",
   "pygments_lexer": "ipython3",
   "version": "3.9.6"
  }
 },
 "nbformat": 4,
 "nbformat_minor": 5
}
