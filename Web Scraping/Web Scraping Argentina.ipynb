{
 "cells": [
  {
   "cell_type": "code",
   "execution_count": 1,
   "id": "3f34038f",
   "metadata": {},
   "outputs": [],
   "source": [
    "from bs4 import BeautifulSoup\n",
    "import requests \n",
    "import pandas as pd\n",
    "import json\n",
    "\n",
    "url = 'https://datosmacro.expansion.com/otros/coronavirus-vacuna/argentina'\n",
    "page = requests.get(url)\n",
    "soup = BeautifulSoup(page.content, \"html.parser\")\n",
    "\n",
    "\n",
    "def find_2nd(string, substring):\n",
    "    return string.find(substring, string.find(substring) + 1)\n",
    "def find_1st(string, substring):\n",
    "    return string.find(substring, string.find(substring))   "
   ]
  },
  {
   "cell_type": "code",
   "execution_count": 9,
   "id": "aba551ee",
   "metadata": {},
   "outputs": [
    {
     "name": "stdout",
     "output_type": "stream",
     "text": [
      "[{'Fecha': '15/09/2021', 'Dosis_Administradas': '47.597.080', 'Personas_Vacunadas': '28.758.477', 'Completamente_vacunadados': '18.485.435', 'Porcentaje_vacunados': '41,13%'}, {'Fecha': '14/09/2021', 'Dosis_Administradas': '47.543.513', 'Personas_Vacunadas': '28.758.477', 'Completamente_vacunadados': '18.485.435', 'Porcentaje_vacunados': '41,13%'}, {'Fecha': '13/09/2021', 'Dosis_Administradas': '47.242.831', 'Personas_Vacunadas': '28.721.805', 'Completamente_vacunadados': '18.274.595', 'Porcentaje_vacunados': '40,67%'}, {'Fecha': '12/09/2021', 'Dosis_Administradas': '46.981.353', 'Personas_Vacunadas': '28.706.802', 'Completamente_vacunadados': '18.188.230', 'Porcentaje_vacunados': '40,47%'}, {'Fecha': '11/09/2021', 'Dosis_Administradas': '46.894.772', 'Personas_Vacunadas': '28.679.706', 'Completamente_vacunadados': '18.011.231', 'Porcentaje_vacunados': '40,08%'}, {'Fecha': '10/09/2021', 'Dosis_Administradas': '46.690.888', 'Personas_Vacunadas': '28.619.681', 'Completamente_vacunadados': '17.679.598', 'Porcentaje_vacunados': '39,34%'}, {'Fecha': '09/09/2021', 'Dosis_Administradas': '46.299.230', 'Personas_Vacunadas': '28.553.239', 'Completamente_vacunadados': '17.364.418', 'Porcentaje_vacunados': '38,64%'}, {'Fecha': '08/09/2021', 'Dosis_Administradas': '45.917.635', 'Personas_Vacunadas': '28.431.871', 'Completamente_vacunadados': '16.745.593', 'Porcentaje_vacunados': '37,26%'}, {'Fecha': '07/09/2021', 'Dosis_Administradas': '45.523.595', 'Personas_Vacunadas': '28.431.871', 'Completamente_vacunadados': '16.745.593', 'Porcentaje_vacunados': '37,26%'}, {'Fecha': '06/09/2021', 'Dosis_Administradas': '45.068.482', 'Personas_Vacunadas': '28.344.998', 'Completamente_vacunadados': '16.322.499', 'Porcentaje_vacunados': '36,32%'}, {'Fecha': '05/09/2021', 'Dosis_Administradas': '44.667.497', 'Personas_Vacunadas': '28.306.772', 'Completamente_vacunadados': '16.094.665', 'Porcentaje_vacunados': '35,81%'}, {'Fecha': '04/09/2021', 'Dosis_Administradas': '44.401.437', 'Personas_Vacunadas': '28.249.162', 'Completamente_vacunadados': '15.800.014', 'Porcentaje_vacunados': '35,16%'}, {'Fecha': '03/09/2021', 'Dosis_Administradas': '44.049.176', 'Personas_Vacunadas': '28.183.966', 'Completamente_vacunadados': '15.512.349', 'Porcentaje_vacunados': '34,52%'}, {'Fecha': '02/09/2021', 'Dosis_Administradas': '43.582.584', 'Personas_Vacunadas': '28.100.621', 'Completamente_vacunadados': '15.121.308', 'Porcentaje_vacunados': '33,65%'}, {'Fecha': '01/09/2021', 'Dosis_Administradas': '43.125.947', 'Personas_Vacunadas': '28.005.793', 'Completamente_vacunadados': '14.786.884', 'Porcentaje_vacunados': '32,90%'}, {'Fecha': '31/08/2021', 'Dosis_Administradas': '42.693.169', 'Personas_Vacunadas': '27.873.340', 'Completamente_vacunadados': '14.387.231', 'Porcentaje_vacunados': '32,02%'}, {'Fecha': '30/08/2021', 'Dosis_Administradas': '42.260.571', 'Personas_Vacunadas': '27.797.557', 'Completamente_vacunadados': '14.132.981', 'Porcentaje_vacunados': '31,45%'}, {'Fecha': '29/08/2021', 'Dosis_Administradas': '41.863.027', 'Personas_Vacunadas': '27.750.181', 'Completamente_vacunadados': '13.875.229', 'Porcentaje_vacunados': '30,88%'}, {'Fecha': '28/08/2021', 'Dosis_Administradas': '41.625.410', 'Personas_Vacunadas': '27.585.143', 'Completamente_vacunadados': '13.270.035', 'Porcentaje_vacunados': '29,53%'}, {'Fecha': '27/08/2021', 'Dosis_Administradas': '41.305.344', 'Personas_Vacunadas': '27.490.908', 'Completamente_vacunadados': '12.916.502', 'Porcentaje_vacunados': '28,74%'}, {'Fecha': '26/08/2021', 'Dosis_Administradas': '40.855.178', 'Personas_Vacunadas': '27.490.908', 'Completamente_vacunadados': '12.916.502', 'Porcentaje_vacunados': '28,74%'}, {'Fecha': '25/08/2021', 'Dosis_Administradas': '40.407.410', 'Personas_Vacunadas': '27.414.859', 'Completamente_vacunadados': '12.536.759', 'Porcentaje_vacunados': '27,90%'}, {'Fecha': '24/08/2021', 'Dosis_Administradas': '39.951.618', 'Personas_Vacunadas': '27.301.884', 'Completamente_vacunadados': '12.205.961', 'Porcentaje_vacunados': '27,16%'}, {'Fecha': '23/08/2021', 'Dosis_Administradas': '39.507.845', 'Personas_Vacunadas': '27.210.308', 'Completamente_vacunadados': '11.923.418', 'Porcentaje_vacunados': '26,53%'}, {'Fecha': '22/08/2021', 'Dosis_Administradas': '39.133.726', 'Personas_Vacunadas': '27.178.860', 'Completamente_vacunadados': '11.725.229', 'Porcentaje_vacunados': '26,09%'}, {'Fecha': '21/08/2021', 'Dosis_Administradas': '38.904.089', 'Personas_Vacunadas': '27.105.019', 'Completamente_vacunadados': '11.479.360', 'Porcentaje_vacunados': '25,54%'}, {'Fecha': '20/08/2021', 'Dosis_Administradas': '38.584.379', 'Personas_Vacunadas': '26.993.547', 'Completamente_vacunadados': '11.151.888', 'Porcentaje_vacunados': '24,82%'}, {'Fecha': '19/08/2021', 'Dosis_Administradas': '38.145.435', 'Personas_Vacunadas': '26.902.913', 'Completamente_vacunadados': '10.786.254', 'Porcentaje_vacunados': '24,00%'}, {'Fecha': '18/08/2021', 'Dosis_Administradas': '37.689.167', 'Personas_Vacunadas': '26.784.800', 'Completamente_vacunadados': '10.449.719', 'Porcentaje_vacunados': '23,25%'}, {'Fecha': '17/08/2021', 'Dosis_Administradas': '37.234.519', 'Personas_Vacunadas': '26.684.756', 'Completamente_vacunadados': '10.257.176', 'Porcentaje_vacunados': '22,82%'}, {'Fecha': '16/08/2021', 'Dosis_Administradas': '36.941.932', 'Personas_Vacunadas': '26.643.961', 'Completamente_vacunadados': '10.165.290', 'Porcentaje_vacunados': '22,62%'}, {'Fecha': '15/08/2021', 'Dosis_Administradas': '36.809.251', 'Personas_Vacunadas': '26.565.910', 'Completamente_vacunadados': '9.821.987', 'Porcentaje_vacunados': '21,86%'}, {'Fecha': '14/08/2021', 'Dosis_Administradas': '36.641.694', 'Personas_Vacunadas': '26.565.910', 'Completamente_vacunadados': '9.821.987', 'Porcentaje_vacunados': '21,86%'}, {'Fecha': '13/08/2021', 'Dosis_Administradas': '36.387.897', 'Personas_Vacunadas': '26.484.592', 'Completamente_vacunadados': '9.553.439', 'Porcentaje_vacunados': '21,26%'}, {'Fecha': '12/08/2021', 'Dosis_Administradas': '36.038.031', 'Personas_Vacunadas': '26.414.061', 'Completamente_vacunadados': '9.348.431', 'Porcentaje_vacunados': '20,80%'}, {'Fecha': '11/08/2021', 'Dosis_Administradas': '35.680.790', 'Personas_Vacunadas': '26.293.313', 'Completamente_vacunadados': '8.954.463', 'Porcentaje_vacunados': '19,93%'}, {'Fecha': '10/08/2021', 'Dosis_Administradas': '35.247.776', 'Personas_Vacunadas': '26.293.313', 'Completamente_vacunadados': '8.954.463', 'Porcentaje_vacunados': '19,93%'}, {'Fecha': '09/08/2021', 'Dosis_Administradas': '34.902.791', 'Personas_Vacunadas': '26.179.454', 'Completamente_vacunadados': '8.723.337', 'Porcentaje_vacunados': '19,41%'}, {'Fecha': '08/08/2021', 'Dosis_Administradas': '34.624.926', 'Personas_Vacunadas': '26.076.234', 'Completamente_vacunadados': '8.548.692', 'Porcentaje_vacunados': '19,02%'}, {'Fecha': '07/08/2021', 'Dosis_Administradas': '34.430.142', 'Personas_Vacunadas': '26.028.829', 'Completamente_vacunadados': '8.401.313', 'Porcentaje_vacunados': '18,69%'}, {'Fecha': '06/08/2021', 'Dosis_Administradas': '34.134.158', 'Personas_Vacunadas': '25.950.647', 'Completamente_vacunadados': '8.183.511', 'Porcentaje_vacunados': '18,21%'}, {'Fecha': '05/08/2021', 'Dosis_Administradas': '33.735.965', 'Personas_Vacunadas': '25.806.439', 'Completamente_vacunadados': '7.929.526', 'Porcentaje_vacunados': '17,65%'}, {'Fecha': '04/08/2021', 'Dosis_Administradas': '33.335.932', 'Personas_Vacunadas': '25.646.674', 'Completamente_vacunadados': '7.689.258', 'Porcentaje_vacunados': '17,11%'}, {'Fecha': '03/08/2021', 'Dosis_Administradas': '30.655.272', 'Personas_Vacunadas': '25.337.678', 'Completamente_vacunadados': '7.358.204', 'Porcentaje_vacunados': '16,37%'}, {'Fecha': '02/08/2021', 'Dosis_Administradas': '30.655.272', 'Personas_Vacunadas': '25.178.202', 'Completamente_vacunadados': '7.157.189', 'Porcentaje_vacunados': '15,93%'}, {'Fecha': '01/08/2021', 'Dosis_Administradas': '30.655.272', 'Personas_Vacunadas': '25.092.667', 'Completamente_vacunadados': '7.056.120', 'Porcentaje_vacunados': '15,70%'}, {'Fecha': '31/07/2021', 'Dosis_Administradas': '30.655.272', 'Personas_Vacunadas': '24.966.105', 'Completamente_vacunadados': '6.911.893', 'Porcentaje_vacunados': '15,38%'}, {'Fecha': '30/07/2021', 'Dosis_Administradas': '30.655.272', 'Personas_Vacunadas': '24.542.819', 'Completamente_vacunadados': '6.532.982', 'Porcentaje_vacunados': '14,54%'}, {'Fecha': '29/07/2021', 'Dosis_Administradas': '30.655.272', 'Personas_Vacunadas': '24.542.819', 'Completamente_vacunadados': '6.532.982', 'Porcentaje_vacunados': '14,54%'}, {'Fecha': '28/07/2021', 'Dosis_Administradas': '30.655.272', 'Personas_Vacunadas': '24.302.432', 'Completamente_vacunadados': '6.352.840', 'Porcentaje_vacunados': '14,14%'}, {'Fecha': '27/07/2021', 'Dosis_Administradas': '30.230.385', 'Personas_Vacunadas': '23.857.637', 'Completamente_vacunadados': '6.022.610', 'Porcentaje_vacunados': '13,40%'}, {'Fecha': '26/07/2021', 'Dosis_Administradas': '29.880.247', 'Personas_Vacunadas': '23.857.637', 'Completamente_vacunadados': '6.022.610', 'Porcentaje_vacunados': '13,40%'}, {'Fecha': '25/07/2021', 'Dosis_Administradas': '29.723.228', 'Personas_Vacunadas': '23.714.686', 'Completamente_vacunadados': '6.008.542', 'Porcentaje_vacunados': '13,37%'}, {'Fecha': '24/07/2021', 'Dosis_Administradas': '29.437.762', 'Personas_Vacunadas': '23.492.843', 'Completamente_vacunadados': '5.944.919', 'Porcentaje_vacunados': '13,23%'}, {'Fecha': '23/07/2021', 'Dosis_Administradas': '29.075.280', 'Personas_Vacunadas': '23.209.621', 'Completamente_vacunadados': '5.865.659', 'Porcentaje_vacunados': '13,05%'}, {'Fecha': '22/07/2021', 'Dosis_Administradas': '28.674.364', 'Personas_Vacunadas': '22.876.517', 'Completamente_vacunadados': '5.797.847', 'Porcentaje_vacunados': '12,90%'}, {'Fecha': '21/07/2021', 'Dosis_Administradas': '28.264.151', 'Personas_Vacunadas': '22.573.282', 'Completamente_vacunadados': '5.690.869', 'Porcentaje_vacunados': '12,66%'}, {'Fecha': '20/07/2021', 'Dosis_Administradas': '27.825.228', 'Personas_Vacunadas': '22.342.067', 'Completamente_vacunadados': '5.483.161', 'Porcentaje_vacunados': '12,20%'}, {'Fecha': '19/07/2021', 'Dosis_Administradas': '27.430.531', 'Personas_Vacunadas': '22.030.134', 'Completamente_vacunadados': '5.400.397', 'Porcentaje_vacunados': '12,02%'}, {'Fecha': '18/07/2021', 'Dosis_Administradas': '27.200.110', 'Personas_Vacunadas': '21.839.491', 'Completamente_vacunadados': '5.360.619', 'Porcentaje_vacunados': '11,93%'}, {'Fecha': '17/07/2021', 'Dosis_Administradas': '26.934.235', 'Personas_Vacunadas': '21.644.577', 'Completamente_vacunadados': '5.289.658', 'Porcentaje_vacunados': '11,77%'}, {'Fecha': '16/07/2021', 'Dosis_Administradas': '26.511.672', 'Personas_Vacunadas': '21.317.004', 'Completamente_vacunadados': '5.194.668', 'Porcentaje_vacunados': '11,56%'}, {'Fecha': '15/07/2021', 'Dosis_Administradas': '26.134.815', 'Personas_Vacunadas': '20.985.921', 'Completamente_vacunadados': '5.148.894', 'Porcentaje_vacunados': '11,46%'}, {'Fecha': '14/07/2021', 'Dosis_Administradas': '25.718.531', 'Personas_Vacunadas': '20.605.189', 'Completamente_vacunadados': '5.113.342', 'Porcentaje_vacunados': '11,38%'}, {'Fecha': '13/07/2021', 'Dosis_Administradas': '25.254.280', 'Personas_Vacunadas': '20.178.596', 'Completamente_vacunadados': '5.075.684', 'Porcentaje_vacunados': '11,29%'}, {'Fecha': '12/07/2021', 'Dosis_Administradas': '24.862.187', 'Personas_Vacunadas': '19.594.624', 'Completamente_vacunadados': '5.022.294', 'Porcentaje_vacunados': '11,18%'}, {'Fecha': '11/07/2021', 'Dosis_Administradas': '24.616.918', 'Personas_Vacunadas': '19.594.624', 'Completamente_vacunadados': '5.022.294', 'Porcentaje_vacunados': '11,18%'}, {'Fecha': '10/07/2021', 'Dosis_Administradas': '24.518.390', 'Personas_Vacunadas': '19.507.996', 'Completamente_vacunadados': '5.010.394', 'Porcentaje_vacunados': '11,15%'}, {'Fecha': '09/07/2021', 'Dosis_Administradas': '24.048.381', 'Personas_Vacunadas': '18.869.175', 'Completamente_vacunadados': '4.852.930', 'Porcentaje_vacunados': '10,80%'}, {'Fecha': '08/07/2021', 'Dosis_Administradas': '23.722.105', 'Personas_Vacunadas': '18.869.175', 'Completamente_vacunadados': '4.852.930', 'Porcentaje_vacunados': '10,80%'}, {'Fecha': '07/07/2021', 'Dosis_Administradas': '23.317.413', 'Personas_Vacunadas': '18.577.434', 'Completamente_vacunadados': '4.739.979', 'Porcentaje_vacunados': '10,55%'}, {'Fecha': '06/07/2021', 'Dosis_Administradas': '22.813.398', 'Personas_Vacunadas': '18.011.944', 'Completamente_vacunadados': '4.432.185', 'Porcentaje_vacunados': '9,86%'}, {'Fecha': '05/07/2021', 'Dosis_Administradas': '22.444.129', 'Personas_Vacunadas': '18.011.944', 'Completamente_vacunadados': '4.432.185', 'Porcentaje_vacunados': '9,86%'}, {'Fecha': '04/07/2021', 'Dosis_Administradas': '22.179.930', 'Personas_Vacunadas': '17.796.602', 'Completamente_vacunadados': '4.383.328', 'Porcentaje_vacunados': '9,75%'}, {'Fecha': '03/07/2021', 'Dosis_Administradas': '21.781.425', 'Personas_Vacunadas': '17.106.617', 'Completamente_vacunadados': '4.203.409', 'Porcentaje_vacunados': '9,35%'}, {'Fecha': '02/07/2021', 'Dosis_Administradas': '21.310.026', 'Personas_Vacunadas': '16.821.968', 'Completamente_vacunadados': '4.085.753', 'Porcentaje_vacunados': '9,09%'}, {'Fecha': '01/07/2021', 'Dosis_Administradas': '20.907.721', 'Personas_Vacunadas': '16.821.968', 'Completamente_vacunadados': '4.085.753', 'Porcentaje_vacunados': '9,09%'}, {'Fecha': '30/06/2021', 'Dosis_Administradas': '20.543.325', 'Personas_Vacunadas': '16.504.606', 'Completamente_vacunadados': '4.038.719', 'Porcentaje_vacunados': '8,99%'}, {'Fecha': '29/06/2021', 'Dosis_Administradas': '20.221.697', 'Personas_Vacunadas': '16.228.833', 'Completamente_vacunadados': '3.992.864', 'Porcentaje_vacunados': '8,89%'}, {'Fecha': '28/06/2021', 'Dosis_Administradas': '19.951.580', 'Personas_Vacunadas': '15.993.494', 'Completamente_vacunadados': '3.958.086', 'Porcentaje_vacunados': '8,81%'}, {'Fecha': '27/06/2021', 'Dosis_Administradas': '19.749.468', 'Personas_Vacunadas': '15.831.632', 'Completamente_vacunadados': '3.917.836', 'Porcentaje_vacunados': '8,72%'}, {'Fecha': '26/06/2021', 'Dosis_Administradas': '19.499.231', 'Personas_Vacunadas': '15.374.817', 'Completamente_vacunadados': '3.830.991', 'Porcentaje_vacunados': '8,52%'}, {'Fecha': '25/06/2021', 'Dosis_Administradas': '19.205.808', 'Personas_Vacunadas': '15.128.961', 'Completamente_vacunadados': '3.792.719', 'Porcentaje_vacunados': '8,44%'}, {'Fecha': '24/06/2021', 'Dosis_Administradas': '18.921.680', 'Personas_Vacunadas': '15.128.961', 'Completamente_vacunadados': '3.792.719', 'Porcentaje_vacunados': '8,44%'}, {'Fecha': '23/06/2021', 'Dosis_Administradas': '18.646.784', 'Personas_Vacunadas': '14.886.910', 'Completamente_vacunadados': '3.759.874', 'Porcentaje_vacunados': '8,37%'}, {'Fecha': '22/06/2021', 'Dosis_Administradas': '18.380.675', 'Personas_Vacunadas': '14.660.693', 'Completamente_vacunadados': '3.719.982', 'Porcentaje_vacunados': '8,28%'}, {'Fecha': '21/06/2021', 'Dosis_Administradas': '18.198.899', 'Personas_Vacunadas': '14.504.810', 'Completamente_vacunadados': '3.694.089', 'Porcentaje_vacunados': '8,22%'}, {'Fecha': '20/06/2021', 'Dosis_Administradas': '18.085.389', 'Personas_Vacunadas': '14.172.453', 'Completamente_vacunadados': '3.664.668', 'Porcentaje_vacunados': '8,15%'}, {'Fecha': '19/06/2021', 'Dosis_Administradas': '17.837.121', 'Personas_Vacunadas': '14.172.453', 'Completamente_vacunadados': '3.664.668', 'Porcentaje_vacunados': '8,15%'}, {'Fecha': '18/06/2021', 'Dosis_Administradas': '17.475.935', 'Personas_Vacunadas': '13.852.316', 'Completamente_vacunadados': '3.623.619', 'Porcentaje_vacunados': '8,06%'}, {'Fecha': '17/06/2021', 'Dosis_Administradas': '17.172.628', 'Personas_Vacunadas': '13.609.451', 'Completamente_vacunadados': '3.563.177', 'Porcentaje_vacunados': '7,93%'}, {'Fecha': '16/06/2021', 'Dosis_Administradas': '16.876.619', 'Personas_Vacunadas': '13.223.188', 'Completamente_vacunadados': '3.420.581', 'Porcentaje_vacunados': '7,61%'}, {'Fecha': '15/06/2021', 'Dosis_Administradas': '16.643.769', 'Personas_Vacunadas': '13.223.188', 'Completamente_vacunadados': '3.420.581', 'Porcentaje_vacunados': '7,61%'}, {'Fecha': '14/06/2021', 'Dosis_Administradas': '16.382.043', 'Personas_Vacunadas': '13.043.304', 'Completamente_vacunadados': '3.338.739', 'Porcentaje_vacunados': '7,43%'}, {'Fecha': '13/06/2021', 'Dosis_Administradas': '16.286.902', 'Personas_Vacunadas': '12.991.480', 'Completamente_vacunadados': '3.295.422', 'Porcentaje_vacunados': '7,33%'}, {'Fecha': '12/06/2021', 'Dosis_Administradas': '16.102.741', 'Personas_Vacunadas': '12.879.690', 'Completamente_vacunadados': '3.223.051', 'Porcentaje_vacunados': '7,17%'}, {'Fecha': '11/06/2021', 'Dosis_Administradas': '15.730.223', 'Personas_Vacunadas': '12.555.442', 'Completamente_vacunadados': '3.174.781', 'Porcentaje_vacunados': '7,06%'}, {'Fecha': '10/06/2021', 'Dosis_Administradas': '15.012.734', 'Personas_Vacunadas': '11.888.649', 'Completamente_vacunadados': '3.124.085', 'Porcentaje_vacunados': '6,95%'}, {'Fecha': '09/06/2021', 'Dosis_Administradas': '15.012.734', 'Personas_Vacunadas': '11.888.649', 'Completamente_vacunadados': '3.124.085', 'Porcentaje_vacunados': '6,95%'}, {'Fecha': '08/06/2021', 'Dosis_Administradas': '14.663.805', 'Personas_Vacunadas': '11.577.809', 'Completamente_vacunadados': '3.085.996', 'Porcentaje_vacunados': '6,87%'}]\n"
     ]
    }
   ],
   "source": [
    "Datos2=[]\n",
    "Fecha2=[]\n",
    "\n",
    "i=0\n",
    "k=0\n",
    "\n",
    "\n",
    "Datos = soup.find_all(\"td\" , class_=\"numero\")\n",
    "Fecha = soup.find_all(\"td\" , class_=\"fecha\")\n",
    "\n",
    "\n",
    "\n",
    "\n",
    "extracted = []\n",
    "\n",
    "for element in Datos:\n",
    "    \n",
    "    element=str(element)\n",
    "    limpio=str(element[find_1st(element, '>')+1:find_2nd(element,'<')])\n",
    "    Datos2.append(limpio.strip())\n",
    "  \n",
    "\n",
    "    \n",
    "for element in Fecha:\n",
    "    \n",
    "    element=str(element)\n",
    "    limpio=str(element[find_1st(element, '>')+1:find_2nd(element,'<')])\n",
    "    Fecha2.append(limpio.strip())\n",
    "     \n",
    "   \n",
    "\n",
    "  \n",
    "for ele in range(100):\n",
    "    extracted.append({\n",
    "       'Fecha' : Fecha2[k],   \n",
    "       'Dosis_Administradas'  : Datos2[i],\n",
    "       'Personas_Vacunadas':Datos2[i+1],\n",
    "       'Completamente_vacunadados':Datos2[i+2],\n",
    "       'Porcentaje_vacunados':Datos2[i+3],\n",
    "       \n",
    "    })\n",
    "    i=i+4\n",
    "    k=k+1\n",
    "\n",
    "\n",
    "print (extracted)\n"
   ]
  },
  {
   "cell_type": "code",
   "execution_count": 10,
   "id": "f1ebaa77",
   "metadata": {},
   "outputs": [
    {
     "name": "stdout",
     "output_type": "stream",
     "text": [
      "Writing complete\n"
     ]
    }
   ],
   "source": [
    "import csv\n",
    "l = 0\n",
    "with open('V_Argentina.csv', 'w') as csvfile:\n",
    "    fieldnames = ['Fecha','Dosis_Administradas','Personas_Vacunadas','Completamente_vacunadados','Porcentaje_vacunados']\n",
    "    writer = csv.DictWriter(csvfile, fieldnames=fieldnames)\n",
    " \n",
    "    writer.writeheader()\n",
    "    for element in extracted:\n",
    "        writer.writerow(extracted[l])\n",
    "        l = l +1\n",
    " \n",
    " \n",
    "print(\"Writing complete\")"
   ]
  },
  {
   "cell_type": "code",
   "execution_count": null,
   "id": "0a674fe1",
   "metadata": {},
   "outputs": [],
   "source": []
  },
  {
   "cell_type": "code",
   "execution_count": null,
   "id": "c404d52b",
   "metadata": {},
   "outputs": [],
   "source": []
  }
 ],
 "metadata": {
  "kernelspec": {
   "display_name": "Python 3 (ipykernel)",
   "language": "python",
   "name": "python3"
  },
  "language_info": {
   "codemirror_mode": {
    "name": "ipython",
    "version": 3
   },
   "file_extension": ".py",
   "mimetype": "text/x-python",
   "name": "python",
   "nbconvert_exporter": "python",
   "pygments_lexer": "ipython3",
   "version": "3.9.6"
  }
 },
 "nbformat": 4,
 "nbformat_minor": 5
}
